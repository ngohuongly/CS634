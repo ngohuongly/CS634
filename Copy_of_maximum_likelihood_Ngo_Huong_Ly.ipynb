{
  "nbformat": 4,
  "nbformat_minor": 0,
  "metadata": {
    "colab": {
      "name": "Copy of maximum_likelihood_Ngo Huong Ly.ipynb",
      "provenance": [],
      "collapsed_sections": [],
      "include_colab_link": true
    },
    "kernelspec": {
      "name": "python3",
      "display_name": "Python 3"
    }
  },
  "cells": [
    {
      "cell_type": "markdown",
      "metadata": {
        "id": "view-in-github",
        "colab_type": "text"
      },
      "source": [
        "<a href=\"https://colab.research.google.com/github/ngohuongly/CS634/blob/main/Copy_of_maximum_likelihood_Ngo_Huong_Ly.ipynb\" target=\"_parent\"><img src=\"https://colab.research.google.com/assets/colab-badge.svg\" alt=\"Open In Colab\"/></a>"
      ]
    },
    {
      "cell_type": "markdown",
      "metadata": {
        "id": "TnAHzuk-fygI"
      },
      "source": [
        "# Maximum Likelihood Method\n",
        "\n"
      ]
    },
    {
      "cell_type": "markdown",
      "metadata": {
        "id": "qJgvCczRqlkV"
      },
      "source": [
        "Lets start with a simple Gaussian distribution. "
      ]
    },
    {
      "cell_type": "code",
      "metadata": {
        "colab": {
          "base_uri": "https://localhost:8080/",
          "height": 282
        },
        "id": "v1aNtafG0qKQ",
        "outputId": "5266522d-6a7f-4cf9-a497-0b67474a4d9c"
      },
      "source": [
        "import numpy as np\n",
        "from scipy.stats import norm\n",
        "import matplotlib.pyplot as plt\n",
        "fig, ax = plt.subplots(1, 1)\n",
        "x = np.linspace(norm.ppf(0.01),\n",
        "                norm.ppf(0.99), 100)\n",
        "ax.plot(x, norm.pdf(x),\n",
        "       'r-', lw=5, alpha=0.6, label='norm pdf')"
      ],
      "execution_count": 1,
      "outputs": [
        {
          "output_type": "execute_result",
          "data": {
            "text/plain": [
              "[<matplotlib.lines.Line2D at 0x7f228e186210>]"
            ]
          },
          "metadata": {
            "tags": []
          },
          "execution_count": 1
        },
        {
          "output_type": "display_data",
          "data": {
            "image/png": "[encoded data removed]",
            "text/plain": [
              "<Figure size 432x288 with 1 Axes>"
            ]
          },
          "metadata": {
            "tags": [],
            "needs_background": "light"
          }
        }
      ]
    },
    {
      "cell_type": "markdown",
      "metadata": {
        "id": "3DmWU03fq_G-"
      },
      "source": [
        "We can retrieve the probability of events happening, e.g. x=3.0"
      ]
    },
    {
      "cell_type": "code",
      "metadata": {
        "id": "cmOBUIzN2GuZ"
      },
      "source": [
        "p_3 = norm.pdf(3.0, 5.0, 3.0)"
      ],
      "execution_count": 2,
      "outputs": []
    },
    {
      "cell_type": "markdown",
      "metadata": {
        "id": "8Jt3N5AgrPZh"
      },
      "source": [
        "We can also easily calculate the joint probability of iid (indepenent and identically distributed) events "
      ]
    },
    {
      "cell_type": "code",
      "metadata": {
        "id": "PQ8AYhYt2-9p"
      },
      "source": [
        "p_7 = norm.pdf(7.0, 7.0, 3.0)\n",
        "\n",
        "joint = p_3*p_7"
      ],
      "execution_count": 3,
      "outputs": []
    },
    {
      "cell_type": "markdown",
      "metadata": {
        "id": "c5GY7PmgrtEq"
      },
      "source": [
        "Assume now that someone is giving us an array of values and ask us to estimate a $p_{model}$ that is a 'good fit' to the gievn data. How we can go about solving this problem with Maximum Likelihood Estimation (MLE)? Notice that as addressed in [3], probability and likelihood have a reverse relationship.  Probability attaches to possible results; likelihood attaches to hypotheses. The likelihood function gives the relative likelihoods of different values for the parameter(s) of the distribution from which the data are assumed to have been drawn, given those data.\n",
        "\n",
        "Lets plot a couple of $p_{model}$ hypotheses - the data are shown below in the same plot. Both hypotheses are plausible.  "
      ]
    },
    {
      "cell_type": "code",
      "metadata": {
        "colab": {
          "base_uri": "https://localhost:8080/",
          "height": 282
        },
        "id": "JLNGc_GI3X7B",
        "outputId": "59677a4a-7912-48f9-c705-c64ce57cb0c9"
      },
      "source": [
        "data = [4, 5, 7, 8, 8, 9, 10, 5, 2, 3, 5, 4, 8, 9]\n",
        "\n",
        "fig, ax = plt.subplots(1, 1)\n",
        "x = np.linspace(0, 20, 100)\n",
        "ax.plot(x, norm.pdf(x,5,3),\n",
        "       'r-', lw=5, alpha=0.6, label='norm pdf')\n",
        "ax.plot(x, norm.pdf(x,7,3),\n",
        "       'b-', lw=5, alpha=0.6, label='norm pdf')\n",
        "ax.plot(data, np.zeros(len(data)).tolist(),'o')"
      ],
      "execution_count": 4,
      "outputs": [
        {
          "output_type": "execute_result",
          "data": {
            "text/plain": [
              "[<matplotlib.lines.Line2D at 0x7f229de7fd50>]"
            ]
          },
          "metadata": {
            "tags": []
          },
          "execution_count": 4
        },
        {
          "output_type": "display_data",
          "data": {
            "image/png": "[encoded data removed]",
            "text/plain": [
              "<Figure size 432x288 with 1 Axes>"
            ]
          },
          "metadata": {
            "tags": [],
            "needs_background": "light"
          }
        }
      ]
    },
    {
      "cell_type": "markdown",
      "metadata": {
        "id": "-vmuSc_UshjC"
      },
      "source": [
        "As detailed in Ref [2], its important to safeguard against underflow that may well result from multiplying many numbers (for large datasets) that are less than 1.0 (probabilities). So we do the calculations in the log domain using the identity\n",
        "\n",
        "$$log(a \\times b)=log(a) + log(b)$$"
      ]
    },
    {
      "cell_type": "markdown",
      "metadata": {
        "id": "LOTKDRSMtb-r"
      },
      "source": [
        "Lets look at a function that calculates the log-likelihood for the two hypotheses above given the data denoted by $x$. "
      ]
    },
    {
      "cell_type": "code",
      "metadata": {
        "id": "8OJewE_D2aA9"
      },
      "source": [
        "def compare_data_to_dist(x, mu_1=5, mu_2=7, sd_1=3, sd_2=3):\n",
        "    ll_1 = 0\n",
        "    ll_2 = 0\n",
        "    for i in x:\n",
        "        ll_1 += np.log(norm.pdf(i, mu_1, sd_1))\n",
        "        ll_2 += np.log(norm.pdf(i, mu_2, sd_2))\n",
        "    \n",
        "    print(\"The LL of of x for mu = %d and sd = %d is: %.4f\" % (mu_1, sd_1, ll_1))\n",
        "    print(\"The LL of of x for mu = %d and sd = %d is: %.4f\" % (mu_2, sd_2, ll_2))\n"
      ],
      "execution_count": 6,
      "outputs": []
    },
    {
      "cell_type": "markdown",
      "metadata": {
        "id": "fxXoRssGt4Bu"
      },
      "source": [
        "We can readily compate the two hypotheses according to the maximum likelihood criterion. Note that because the $log$ is a monotonic function, the conclusion as to which hypothesis makes the data more likely is the same in the natural or the $log$ domain. "
      ]
    },
    {
      "cell_type": "code",
      "metadata": {
        "colab": {
          "base_uri": "https://localhost:8080/"
        },
        "id": "g5jQmd1b5h3a",
        "outputId": "98272a96-03f8-468d-9545-63d1941a22aa"
      },
      "source": [
        "ll_comparison = compare_data_to_dist(data)"
      ],
      "execution_count": 8,
      "outputs": [
        {
          "output_type": "stream",
          "text": [
            "The LL of of x for mu = 5 and sd = 3 is: -33.9679\n",
            "The LL of of x for mu = 7 and sd = 3 is: -33.3013\n"
          ],
          "name": "stdout"
        }
      ]
    },
    {
      "cell_type": "code",
      "metadata": {
        "id": "foi6wu59sIyw"
      },
      "source": [
        ""
      ],
      "execution_count": 8,
      "outputs": []
    },
    {
      "cell_type": "markdown",
      "metadata": {
        "id": "2gPAwYpxu4fc"
      },
      "source": [
        "It seems that the second hypothesis \n",
        "\n",
        "$$p_{model}(x|\\mathbf{w}) = N(x | [\\mu_2, \\sigma_2^2])$$\n",
        "\n",
        "is preferred compared to the first. "
      ]
    },
    {
      "cell_type": "markdown",
      "metadata": {
        "id": "eKwCRfyh_FgY"
      },
      "source": [
        "We can now start searching the hypothesis space (parameter space) for the best parameter set $\\mathbf w$. "
      ]
    },
    {
      "cell_type": "code",
      "metadata": {
        "colab": {
          "base_uri": "https://localhost:8080/",
          "height": 598
        },
        "id": "uw-K6S7A7mqA",
        "outputId": "8c238065-8ce7-43fd-e1a4-f9111740fdac"
      },
      "source": [
        "# Plot the Negative Log Likelihood Functions for different values of mu \n",
        "# and sigma\n",
        "def plot_ll(x):\n",
        "    plt.figure(figsize=(5,8))\n",
        "    plt.title(\"Neg Log Likelihood Functions\")\n",
        "    plt.xlabel(\"Mean Estimate\")\n",
        "    plt.ylabel(\"Neg Log Likelihood\")\n",
        "    plt.ylim(30, 60)\n",
        "    plt.xlim(0, 12)\n",
        "    mu_set = np.linspace(0, 16, 1000)\n",
        "    sd_set = [.5, 1.5, 2.5, 3.5, 4.5]\n",
        "    max_val = max_val_location = None\n",
        "    for i in sd_set:\n",
        "        ll_array = []\n",
        "        \n",
        "        for j in mu_set:\n",
        "            temp_mm = 0\n",
        "            \n",
        "            for k in x:\n",
        "                temp_mm += np.log(norm.pdf(k, j, i)) # The LL function\n",
        "            ll_array.append(-temp_mm) # negative LL\n",
        "        \n",
        "            if (max_val is None):\n",
        "                max_val = min(ll_array)\n",
        "            elif max(ll_array) > max_val:\n",
        "                max_val = min(ll_array)\n",
        "                max_val_location = j\n",
        "        \n",
        "        # Plot the results\n",
        "        plt.plot(mu_set, ll_array, label=\"sd: %.1f\" % i)\n",
        "        \n",
        "        print(\"The max LL for sd %.2f is %.2f\" % (i, min(ll_array)))    \n",
        "    plt.axvline(x=max_val_location, color='black', ls='-.')\n",
        "    plt.legend(loc='lower left')\n",
        "plot_ll(data);\n"
      ],
      "execution_count": 9,
      "outputs": [
        {
          "output_type": "stream",
          "text": [
            "The max LL for sd 0.50 is 167.88\n",
            "The max LL for sd 1.50 is 36.84\n",
            "The max LL for sd 2.50 is 32.28\n",
            "The max LL for sd 3.50 is 33.77\n",
            "The max LL for sd 4.50 is 35.96\n"
          ],
          "name": "stdout"
        },
        {
          "output_type": "display_data",
          "data": {
            "image/png": "[encoded data removed]",
            "text/plain": [
              "<Figure size 360x576 with 1 Axes>"
            ]
          },
          "metadata": {
            "tags": [],
            "needs_background": "light"
          }
        }
      ]
    },
    {
      "cell_type": "markdown",
      "metadata": {
        "id": "fxNMqYYIvi3a"
      },
      "source": [
        "But there is a better method than exhaustively searching in the parameter space. We developed a method that incrementally minimizes a loss function that is ultimately linked to the concept of entropy - the cross entropy (CE) that for the supervided learning problem as shown in the notes has a lot to do with minimizing the KL divergence - a type of probabilistic 'distance' between $\\hat p_{data}$ and $p_{model}$. \n",
        "\n",
        "This method is the Stochastic Gradient Descent. Can ypu estimate the hypothesis for the `data` array above? "
      ]
    },
    {
      "cell_type": "markdown",
      "metadata": {
        "id": "UCGJuL987wgJ"
      },
      "source": [
        "Using the graphic presentation above, I can determine the mean and the standard deviation of the P model: mean = 6.2 and standard deviation will be 2.5 as the negative Log Likelhood reaches the minimum at this point. we can also double check the results using the np.mean and np.std. So we have found the hypothesis and the Pmodel. "
      ]
    },
    {
      "cell_type": "code",
      "metadata": {
        "id": "HBv1r6OGQ6WS",
        "colab": {
          "base_uri": "https://localhost:8080/"
        },
        "outputId": "5a952fec-8511-403e-ea39-11e4cfd80ec2"
      },
      "source": [
        "print(\"the mean is:\", np.mean(data))\r\n",
        "print(\"the standard deviation is:\", np.std(data))"
      ],
      "execution_count": 8,
      "outputs": [
        {
          "output_type": "stream",
          "text": [
            "the mean is: 6.214285714285714\n",
            "the standard deviation is: 2.425418120907092\n"
          ],
          "name": "stdout"
        }
      ]
    },
    {
      "cell_type": "markdown",
      "metadata": {
        "id": "7tqGhdCXQjKa"
      },
      "source": [
        "You are given a problem that involves the relationship between $x$ and $y$. Estimate the parameters of a $p_{model}$ that fit the dataset (x,y) shown below.  "
      ]
    },
    {
      "cell_type": "code",
      "metadata": {
        "id": "7bTB95S3MclH"
      },
      "source": [
        "x = np.array([8, 16, 22, 33, 50, 51])\r\n",
        "y = np.array([5, 20, 14, 32, 42, 58])"
      ],
      "execution_count": 22,
      "outputs": []
    },
    {
      "cell_type": "code",
      "metadata": {
        "colab": {
          "base_uri": "https://localhost:8080/",
          "height": 291
        },
        "id": "FaCCr1ocMebC",
        "outputId": "ce3db640-2630-4c0f-f0ed-cc958cd45598"
      },
      "source": [
        "# First we plot the data to have an idea of the data distribution\r\n",
        "plt.plot(x,y,\"b.\")\r\n",
        "plt.xlabel(\"$x$\", fontsize=18)\r\n",
        "plt.ylabel(\"$y$\", rotation=0, fontsize=18)\r\n",
        "plt.axis([0, 60, 0, 60])\r\n",
        "plt.show()"
      ],
      "execution_count": 23,
      "outputs": [
        {
          "output_type": "display_data",
          "data": {
            "image/png": "[encoded data removed]",
            "text/plain": [
              "<Figure size 432x288 with 1 Axes>"
            ]
          },
          "metadata": {
            "tags": [],
            "needs_background": "light"
          }
        }
      ]
    },
    {
      "cell_type": "code",
      "metadata": {
        "colab": {
          "base_uri": "https://localhost:8080/"
        },
        "id": "jFCR7YfwMuuF",
        "outputId": "40620f5d-f5d6-4144-f534-7084e5fe7d2b"
      },
      "source": [
        "# Using the Normal Equation to find the parameters of the Pmodel. \r\n",
        "x_b=np.c_[np.ones((6,1)), x]\r\n",
        "theta_best=np.linalg.inv(x_b.T.dot(x_b)).dot(x_b.T).dot(y)\r\n",
        "theta_best"
      ],
      "execution_count": 24,
      "outputs": [
        {
          "output_type": "execute_result",
          "data": {
            "text/plain": [
              "array([-2.59159348,  1.03638645])"
            ]
          },
          "metadata": {
            "tags": []
          },
          "execution_count": 24
        }
      ]
    },
    {
      "cell_type": "code",
      "metadata": {
        "colab": {
          "base_uri": "https://localhost:8080/",
          "height": 286
        },
        "id": "b8DzvtWgZmBv",
        "outputId": "37f5eb59-22e5-4458-c9d3-eb5b3771d14b"
      },
      "source": [
        "#predict y_pred using x\r\n",
        "y_pred = x_b.dot(theta_best)\r\n",
        "print(\"the results y_pred are:\", y_pred)\r\n",
        "plt.plot(x,y_pred, \"r-\")\r\n",
        "plt.plot(x, y, \"b.\")\r\n",
        "plt.axis([0, 60, 0, 60])\r\n",
        "plt.show()"
      ],
      "execution_count": 25,
      "outputs": [
        {
          "output_type": "stream",
          "text": [
            "the results y_pred are: [ 5.69949812 13.99058971 20.20890841 31.60915935 49.22772898 50.26411543]\n"
          ],
          "name": "stdout"
        },
        {
          "output_type": "display_data",
          "data": {
            "image/png": "[encoded data removed]",
            "text/plain": [
              "<Figure size 432x288 with 1 Axes>"
            ]
          },
          "metadata": {
            "tags": [],
            "needs_background": "light"
          }
        }
      ]
    },
    {
      "cell_type": "code",
      "metadata": {
        "colab": {
          "base_uri": "https://localhost:8080/"
        },
        "id": "MEh2hw1VZT2D",
        "outputId": "90ab62c4-2558-41c8-b00d-2059655edb1a"
      },
      "source": [
        "#using linear_regression to find the parameters of the Pmodel\r\n",
        "from sklearn.linear_model import LinearRegression\r\n",
        "x=x.reshape(-1,1)\r\n",
        "y=y.reshape(-1,1)\r\n",
        "lin_reg=LinearRegression()\r\n",
        "lin_reg.fit(x,y)\r\n",
        "lin_reg.intercept_, lin_reg.coef_"
      ],
      "execution_count": 26,
      "outputs": [
        {
          "output_type": "execute_result",
          "data": {
            "text/plain": [
              "(array([-2.59159348]), array([[1.03638645]]))"
            ]
          },
          "metadata": {
            "tags": []
          },
          "execution_count": 26
        }
      ]
    },
    {
      "cell_type": "markdown",
      "metadata": {
        "id": "amim8xQLTUlS"
      },
      "source": [
        "OBSERVATION OF THE PARAMETERS OF Pmodel USING NORMAL EQUATION AND LINEAR REGRESSION: WE CAN SEE THAT THE RESULTS OBTAINED USING THE TWO METHODS ARE THE SAME. "
      ]
    },
    {
      "cell_type": "code",
      "metadata": {
        "colab": {
          "base_uri": "https://localhost:8080/"
        },
        "id": "mRqCcJ7TYNo1",
        "outputId": "7cc468b3-e901-4d93-d62c-e51eca017bb9"
      },
      "source": [
        "# Using Batch Gradient Descent: \r\n",
        "eta=0.0005\r\n",
        "n_iterations=100000\r\n",
        "m=1000\r\n",
        "theta=np.random.randn(2,1)\r\n",
        "\r\n",
        "for iteration in range(n_iterations):\r\n",
        "  gradients=2/m *x_b.T.dot(x_b.dot(theta) - y)\r\n",
        "  theta=theta-eta*gradients\r\n",
        "theta\r\n",
        "\r\n"
      ],
      "execution_count": 27,
      "outputs": [
        {
          "output_type": "execute_result",
          "data": {
            "text/plain": [
              "array([[-0.61915644],\n",
              "       [ 0.98561321]])"
            ]
          },
          "metadata": {
            "tags": []
          },
          "execution_count": 27
        }
      ]
    },
    {
      "cell_type": "code",
      "metadata": {
        "colab": {
          "base_uri": "https://localhost:8080/",
          "height": 371
        },
        "id": "KSo0T9apeXx3",
        "outputId": "b05b656e-63fa-42de-aec1-dd578f090b33"
      },
      "source": [
        "y_pred_gd=x_b.dot(theta)\r\n",
        "print(\"the results y_pred using Gradient Descent are:\", y_pred_gd)\r\n",
        "\r\n",
        "plt.plot(x,y_pred_gd, \"r-\")\r\n",
        "plt.plot(x, y, \"b.\")\r\n",
        "plt.axis([0, 60, 0, 60])\r\n",
        "plt.show()"
      ],
      "execution_count": 31,
      "outputs": [
        {
          "output_type": "stream",
          "text": [
            "the results y_pred using Gradient Descent are: [[ 7.26574922]\n",
            " [15.15065488]\n",
            " [21.06433413]\n",
            " [31.90607942]\n",
            " [48.66150395]\n",
            " [49.64711715]]\n"
          ],
          "name": "stdout"
        },
        {
          "output_type": "display_data",
          "data": {
            "image/png": "[encoded data removed]",
            "text/plain": [
              "<Figure size 432x288 with 1 Axes>"
            ]
          },
          "metadata": {
            "tags": [],
            "needs_background": "light"
          }
        }
      ]
    },
    {
      "cell_type": "markdown",
      "metadata": {
        "id": "fgh4j8VlU-3n"
      },
      "source": [
        "USING THE BATCH GRADIENT DESCENT, THE PARAMETERS OF Pmodel THAT WE OBTAINED DO NOT REALLY MATCH WITH THE ONES THAT WE HAVE USING LINEAR REGRESSION AND NORMAL EQUATION BUT WE CAN SEE THAT THE COEFFICIENT IS QUITE CLOSE. AS THE DATASET IS SMALL SO I HAVE TO TOOL THE HYPERPARAMETERS AND DECIDE THAT eta0 WILL BE 0.0005, n_iterations IS 100000 AND m IS 1000. IF I USE THE DEFAULT VALUES FOR THOSE PARAMETERS, THE VALUES THAT I WANT TO CALCULATE WILL BE VERY BIG. "
      ]
    },
    {
      "cell_type": "code",
      "metadata": {
        "colab": {
          "base_uri": "https://localhost:8080/"
        },
        "id": "ZaqJlxafSjSW",
        "outputId": "b98e7bdf-afbc-42d0-ac2b-88f6182c15b2"
      },
      "source": [
        "#Using the Stochastic Gradient Descent\r\n",
        "from sklearn.linear_model import SGDRegressor\r\n",
        "sgd_reg = SGDRegressor( penalty=None, eta0=0.0005)\r\n",
        "sgd_reg.fit(x, y.ravel())\r\n",
        "sgd_reg.intercept_, sgd_reg.coef_"
      ],
      "execution_count": 36,
      "outputs": [
        {
          "output_type": "execute_result",
          "data": {
            "text/plain": [
              "(array([-0.01358555]), array([1.00354654]))"
            ]
          },
          "metadata": {
            "tags": []
          },
          "execution_count": 36
        }
      ]
    },
    {
      "cell_type": "code",
      "metadata": {
        "colab": {
          "base_uri": "https://localhost:8080/",
          "height": 269
        },
        "id": "joLugy9KbuIY",
        "outputId": "eeedc850-5e9c-4242-d62a-26795957a4f5"
      },
      "source": [
        "y_pred_sgd=sgd_reg.predict(x)\r\n",
        "plt.plot(x,y_pred_sgd, \"r-\")\r\n",
        "plt.plot(x, y, \"b.\")\r\n",
        "plt.axis([0, 60, 0, 60])\r\n",
        "plt.show()"
      ],
      "execution_count": 37,
      "outputs": [
        {
          "output_type": "display_data",
          "data": {
            "image/png": "[encoded data removed]",
            "text/plain": [
              "<Figure size 432x288 with 1 Axes>"
            ]
          },
          "metadata": {
            "tags": [],
            "needs_background": "light"
          }
        }
      ]
    },
    {
      "cell_type": "markdown",
      "metadata": {
        "id": "NRTyhxWAZXDT"
      },
      "source": [
        "USING THE STOCHASTIC GRADIENT DESCENT, I GOT THE PARAMETERS OF THE Pmodel AS ABOVE. THE RESULTS ARE QUITE SIMILAR TO THE ONES OBTAINED FROM THE BATCH GRADIENT DESCENT BUT AS THE DATASET IS SMALL, I CAN NOT USE THE DEFAULTS VALUES BUT NEED TO TOOL THE HYPERPARAMETERS. AFTER TRYING A SMALL VALUE OF eta0 ( HERE 0.0005), THE RESULTS FOR THETA MAKE MORE SENSE TO ME.  "
      ]
    },
    {
      "cell_type": "code",
      "metadata": {
        "colab": {
          "base_uri": "https://localhost:8080/"
        },
        "id": "Nw1ANjt2PKkD",
        "outputId": "dc978050-8b98-4603-e0a3-fb641ab8da47"
      },
      "source": [
        "# another way of calculating the theta using stochastic gradient descent \r\n",
        "n_epochs = 3000\r\n",
        "m = len(x_b)\r\n",
        "m = 1000\r\n",
        "t0,t1=0.005, 10\r\n",
        "\r\n",
        "def learning_schedule(t):\r\n",
        "    return t0 / (t + t1)\r\n",
        "theta_sgd = np.random.randn(2,1)\r\n",
        "#print(theta_sgd)\r\n",
        "\r\n",
        "for epoch in range(n_epochs):\r\n",
        "    for i in range(m):\r\n",
        "        random_index = np.random.randint(m)\r\n",
        "        xi = x_b[random_index:random_index+1]\r\n",
        "        yi = y[random_index:random_index+1]\r\n",
        "        gradients = 2 * xi.T.dot(xi.dot(theta_sgd) - yi)\r\n",
        "        eta = learning_schedule(epoch * m + i)\r\n",
        "        theta_sgd = theta_sgd - eta * gradients\r\n",
        "\r\n",
        "\r\n",
        "theta_sgd"
      ],
      "execution_count": 47,
      "outputs": [
        {
          "output_type": "execute_result",
          "data": {
            "text/plain": [
              "array([[-2.79084039],\n",
              "       [ 1.04944931]])"
            ]
          },
          "metadata": {
            "tags": []
          },
          "execution_count": 47
        }
      ]
    },
    {
      "cell_type": "code",
      "metadata": {
        "colab": {
          "base_uri": "https://localhost:8080/",
          "height": 269
        },
        "id": "MaoGv7BfnErj",
        "outputId": "550f0a81-0615-435f-ab75-1e5cd9d65293"
      },
      "source": [
        "y_pred_sgd2=x_b.dot(theta_sgd)\r\n",
        "plt.plot(x,y_pred_sgd2, \"r-\")\r\n",
        "plt.plot(x, y, \"b.\")\r\n",
        "plt.axis([0, 60, 0, 60])\r\n",
        "plt.show()\r\n"
      ],
      "execution_count": 48,
      "outputs": [
        {
          "output_type": "display_data",
          "data": {
            "image/png": "[encoded data removed]",
            "text/plain": [
              "<Figure size 432x288 with 1 Axes>"
            ]
          },
          "metadata": {
            "tags": [],
            "needs_background": "light"
          }
        }
      ]
    },
    {
      "cell_type": "code",
      "metadata": {
        "colab": {
          "base_uri": "https://localhost:8080/"
        },
        "id": "uXSTaz3lLPZs",
        "outputId": "6da34687-cc0b-4569-d509-a890ba181005"
      },
      "source": [
        "y_pred_sgd=x_b.dot(theta_sgd)\r\n",
        "y_pred_sgd"
      ],
      "execution_count": 49,
      "outputs": [
        {
          "output_type": "execute_result",
          "data": {
            "text/plain": [
              "array([[ 5.60475405],\n",
              "       [14.0003485 ],\n",
              "       [20.29704433],\n",
              "       [31.84098669],\n",
              "       [49.68162488],\n",
              "       [50.73107418]])"
            ]
          },
          "metadata": {
            "tags": []
          },
          "execution_count": 49
        }
      ]
    },
    {
      "cell_type": "code",
      "metadata": {
        "colab": {
          "base_uri": "https://localhost:8080/",
          "height": 269
        },
        "id": "hjPNZ22OToKP",
        "outputId": "5fa203d5-33ee-4a22-91a9-aebe7fb4d5b1"
      },
      "source": [
        "plt.plot(x_b,y_pred_sgd, \"r-\")\r\n",
        "plt.plot(x, y, \"b.\")\r\n",
        "plt.axis([0, 60, 0, 60])\r\n",
        "plt.show()"
      ],
      "execution_count": 51,
      "outputs": [
        {
          "output_type": "display_data",
          "data": {
            "image/png": "[encoded data removed]",
            "text/plain": [
              "<Figure size 432x288 with 1 Axes>"
            ]
          },
          "metadata": {
            "tags": [],
            "needs_background": "light"
          }
        }
      ]
    },
    {
      "cell_type": "markdown",
      "metadata": {
        "id": "6BDjtdMFghC5"
      },
      "source": [
        "# References\n",
        "\n",
        "1. https://medium.com/@rrfd/what-is-maximum-likelihood-estimation-examples-in-python-791153818030\n",
        "2. [Section 4.1 - Numerical computation](https://www.deeplearningbook.org/contents/numerical.html)\n",
        "3. [Bayes for beginners - probability and likelihood](https://www.psychologicalscience.org/observer/bayes-for-beginners-probability-and-likelihood) "
      ]
    }
  ]
}