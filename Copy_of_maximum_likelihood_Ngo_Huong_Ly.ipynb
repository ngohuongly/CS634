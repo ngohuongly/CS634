{
  "nbformat": 4,
  "nbformat_minor": 0,
  "metadata": {
    "colab": {
      "name": "Copy of maximum_likelihood_Ngo Huong Ly.ipynb",
      "provenance": [],
      "collapsed_sections": [],
      "include_colab_link": true
    },
    "kernelspec": {
      "name": "python3",
      "display_name": "Python 3"
    }
  },
  "cells": [
    {
      "cell_type": "markdown",
      "metadata": {
        "id": "view-in-github",
        "colab_type": "text"
      },
      "source": [
        "<a href=\"https://colab.research.google.com/github/ngohuongly/CS634/blob/main/Copy_of_maximum_likelihood_Ngo_Huong_Ly.ipynb\" target=\"_parent\"><img src=\"https://colab.research.google.com/assets/colab-badge.svg\" alt=\"Open In Colab\"/></a>"
      ]
    },
    {
      "cell_type": "markdown",
      "metadata": {
        "id": "TnAHzuk-fygI"
      },
      "source": [
        "# Maximum Likelihood Method\n",
        "\n"
      ]
    },
    {
      "cell_type": "markdown",
      "metadata": {
        "id": "qJgvCczRqlkV"
      },
      "source": [
        "Lets start with a simple Gaussian distribution. "
      ]
    },
    {
      "cell_type": "code",
      "metadata": {
        "colab": {
          "base_uri": "https://localhost:8080/",
          "height": 282
        },
        "id": "v1aNtafG0qKQ",
        "outputId": "5d9f2dc4-05c8-4af8-ef90-a5ad714dbc7d"
      },
      "source": [
        "import numpy as np\n",
        "from scipy.stats import norm\n",
        "import matplotlib.pyplot as plt\n",
        "fig, ax = plt.subplots(1, 1)\n",
        "x = np.linspace(norm.ppf(0.01),\n",
        "                norm.ppf(0.99), 100)\n",
        "ax.plot(x, norm.pdf(x),\n",
        "       'r-', lw=5, alpha=0.6, label='norm pdf')"
      ],
      "execution_count": 1,
      "outputs": [
        {
          "output_type": "execute_result",
          "data": {
            "text/plain": [
              "[<matplotlib.lines.Line2D at 0x7f5ab9029790>]"
            ]
          },
          "metadata": {
            "tags": []
          },
          "execution_count": 1
        },
        {
          "output_type": "display_data",
          "data": {
            "image/png": "[encoded data removed]",
            "text/plain": [
              "<Figure size 432x288 with 1 Axes>"
            ]
          },
          "metadata": {
            "tags": [],
            "needs_background": "light"
          }
        }
      ]
    },
    {
      "cell_type": "markdown",
      "metadata": {
        "id": "3DmWU03fq_G-"
      },
      "source": [
        "We can retrieve the probability of events happening, e.g. x=3.0"
      ]
    },
    {
      "cell_type": "code",
      "metadata": {
        "id": "cmOBUIzN2GuZ"
      },
      "source": [
        "p_3 = norm.pdf(3.0, 5.0, 3.0)"
      ],
      "execution_count": 2,
      "outputs": []
    },
    {
      "cell_type": "markdown",
      "metadata": {
        "id": "8Jt3N5AgrPZh"
      },
      "source": [
        "We can also easily calculate the joint probability of iid (indepenent and identically distributed) events "
      ]
    },
    {
      "cell_type": "code",
      "metadata": {
        "id": "PQ8AYhYt2-9p"
      },
      "source": [
        "p_7 = norm.pdf(7.0, 7.0, 3.0)\n",
        "\n",
        "joint = p_3*p_7"
      ],
      "execution_count": 3,
      "outputs": []
    },
    {
      "cell_type": "markdown",
      "metadata": {
        "id": "c5GY7PmgrtEq"
      },
      "source": [
        "Assume now that someone is giving us an array of values and ask us to estimate a $p_{model}$ that is a 'good fit' to the gievn data. How we can go about solving this problem with Maximum Likelihood Estimation (MLE)? Notice that as addressed in [3], probability and likelihood have a reverse relationship.  Probability attaches to possible results; likelihood attaches to hypotheses. The likelihood function gives the relative likelihoods of different values for the parameter(s) of the distribution from which the data are assumed to have been drawn, given those data.\n",
        "\n",
        "Lets plot a couple of $p_{model}$ hypotheses - the data are shown below in the same plot. Both hypotheses are plausible.  "
      ]
    },
    {
      "cell_type": "code",
      "metadata": {
        "colab": {
          "base_uri": "https://localhost:8080/",
          "height": 282
        },
        "id": "JLNGc_GI3X7B",
        "outputId": "aedb5bae-0d3f-4733-da3a-4194e3ba8909"
      },
      "source": [
        "data = [4, 5, 7, 8, 8, 9, 10, 5, 2, 3, 5, 4, 8, 9]\n",
        "\n",
        "fig, ax = plt.subplots(1, 1)\n",
        "x = np.linspace(0, 20, 100)\n",
        "ax.plot(x, norm.pdf(x,5,3),\n",
        "       'r-', lw=5, alpha=0.6, label='norm pdf')\n",
        "ax.plot(x, norm.pdf(x,7,3),\n",
        "       'b-', lw=5, alpha=0.6, label='norm pdf')\n",
        "ax.plot(data, np.zeros(len(data)).tolist(),'o')"
      ],
      "execution_count": 4,
      "outputs": [
        {
          "output_type": "execute_result",
          "data": {
            "text/plain": [
              "[<matplotlib.lines.Line2D at 0x7f5ab8b24fd0>]"
            ]
          },
          "metadata": {
            "tags": []
          },
          "execution_count": 4
        },
        {
          "output_type": "display_data",
          "data": {
            "image/png": "[encoded data removed]",
            "text/plain": [
              "<Figure size 432x288 with 1 Axes>"
            ]
          },
          "metadata": {
            "tags": [],
            "needs_background": "light"
          }
        }
      ]
    },
    {
      "cell_type": "markdown",
      "metadata": {
        "id": "-vmuSc_UshjC"
      },
      "source": [
        "As detailed in Ref [2], its important to safeguard against underflow that may well result from multiplying many numbers (for large datasets) that are less than 1.0 (probabilities). So we do the calculations in the log domain using the identity\n",
        "\n",
        "$$log(a \\times b)=log(a) + log(b)$$"
      ]
    },
    {
      "cell_type": "markdown",
      "metadata": {
        "id": "LOTKDRSMtb-r"
      },
      "source": [
        "Lets look at a function that calculates the log-likelihood for the two hypotheses above given the data denoted by $x$. "
      ]
    },
    {
      "cell_type": "code",
      "metadata": {
        "id": "8OJewE_D2aA9"
      },
      "source": [
        "def compare_data_to_dist(x, mu_1=5, mu_2=7, sd_1=3, sd_2=3):\n",
        "    ll_1 = 0\n",
        "    ll_2 = 0\n",
        "    for i in x:\n",
        "        ll_1 += np.log(norm.pdf(i, mu_1, sd_1))\n",
        "        ll_2 += np.log(norm.pdf(i, mu_2, sd_2))\n",
        "    \n",
        "    print(\"The LL of of x for mu = %d and sd = %d is: %.4f\" % (mu_1, sd_1, ll_1))\n",
        "    print(\"The LL of of x for mu = %d and sd = %d is: %.4f\" % (mu_2, sd_2, ll_2))\n"
      ],
      "execution_count": 5,
      "outputs": []
    },
    {
      "cell_type": "markdown",
      "metadata": {
        "id": "fxXoRssGt4Bu"
      },
      "source": [
        "We can readily compate the two hypotheses according to the maximum likelihood criterion. Note that because the $log$ is a monotonic function, the conclusion as to which hypothesis makes the data more likely is the same in the natural or the $log$ domain. "
      ]
    },
    {
      "cell_type": "code",
      "metadata": {
        "colab": {
          "base_uri": "https://localhost:8080/"
        },
        "id": "g5jQmd1b5h3a",
        "outputId": "4d3a27e0-a9b7-4d0a-af24-3b47d6015d14"
      },
      "source": [
        "ll_comparison = compare_data_to_dist(data)"
      ],
      "execution_count": 6,
      "outputs": [
        {
          "output_type": "stream",
          "text": [
            "The LL of of x for mu = 5 and sd = 3 is: -33.9679\n",
            "The LL of of x for mu = 7 and sd = 3 is: -33.3013\n"
          ],
          "name": "stdout"
        }
      ]
    },
    {
      "cell_type": "code",
      "metadata": {
        "id": "foi6wu59sIyw"
      },
      "source": [
        ""
      ],
      "execution_count": null,
      "outputs": []
    },
    {
      "cell_type": "markdown",
      "metadata": {
        "id": "2gPAwYpxu4fc"
      },
      "source": [
        "It seems that the second hypothesis \n",
        "\n",
        "$$p_{model}(x|\\mathbf{w}) = N(x | [\\mu_2, \\sigma_2^2])$$\n",
        "\n",
        "is preferred compared to the first. "
      ]
    },
    {
      "cell_type": "markdown",
      "metadata": {
        "id": "eKwCRfyh_FgY"
      },
      "source": [
        "We can now start searching the hypothesis space (parameter space) for the best parameter set $\\mathbf w$. "
      ]
    },
    {
      "cell_type": "code",
      "metadata": {
        "colab": {
          "base_uri": "https://localhost:8080/",
          "height": 597
        },
        "id": "uw-K6S7A7mqA",
        "outputId": "279a0f83-fc2c-4292-8ad4-a376cf629c3a"
      },
      "source": [
        "# Plot the Negative Log Likelihood Functions for different values of mu \n",
        "# and sigma\n",
        "def plot_ll(x):\n",
        "    plt.figure(figsize=(5,8))\n",
        "    plt.title(\"Neg Log Likelihood Functions\")\n",
        "    plt.xlabel(\"Mean Estimate\")\n",
        "    plt.ylabel(\"Neg Log Likelihood\")\n",
        "    plt.ylim(30, 60)\n",
        "    plt.xlim(0, 12)\n",
        "    mu_set = np.linspace(0, 16, 1000)\n",
        "    sd_set = [.5, 1.5, 2.5, 3.5, 4.5]\n",
        "    max_val = max_val_location = None\n",
        "    for i in sd_set:\n",
        "        ll_array = []\n",
        "        \n",
        "        for j in mu_set:\n",
        "            temp_mm = 0\n",
        "            \n",
        "            for k in x:\n",
        "                temp_mm += np.log(norm.pdf(k, j, i)) # The LL function\n",
        "            ll_array.append(-temp_mm) # negative LL\n",
        "        \n",
        "            if (max_val is None):\n",
        "                max_val = min(ll_array)\n",
        "            elif max(ll_array) > max_val:\n",
        "                max_val = min(ll_array)\n",
        "                max_val_location = j\n",
        "        \n",
        "        # Plot the results\n",
        "        plt.plot(mu_set, ll_array, label=\"sd: %.1f\" % i)\n",
        "        \n",
        "        print(\"The max LL for sd %.2f is %.2f\" % (i, min(ll_array)))    \n",
        "    plt.axvline(x=max_val_location, color='black', ls='-.')\n",
        "    plt.legend(loc='lower left')\n",
        "plot_ll(data);\n"
      ],
      "execution_count": 7,
      "outputs": [
        {
          "output_type": "stream",
          "text": [
            "The max LL for sd 0.50 is 167.88\n",
            "The max LL for sd 1.50 is 36.84\n",
            "The max LL for sd 2.50 is 32.28\n",
            "The max LL for sd 3.50 is 33.77\n",
            "The max LL for sd 4.50 is 35.96\n"
          ],
          "name": "stdout"
        },
        {
          "output_type": "display_data",
          "data": {
            "image/png": "[encoded data removed]",
            "text/plain": [
              "<Figure size 360x576 with 1 Axes>"
            ]
          },
          "metadata": {
            "tags": [],
            "needs_background": "light"
          }
        }
      ]
    },
    {
      "cell_type": "markdown",
      "metadata": {
        "id": "fxNMqYYIvi3a"
      },
      "source": [
        "But there is a better method than exhaustively searching in the parameter space. We developed a method that incrementally minimizes a loss function that is ultimately linked to the concept of entropy - the cross entropy (CE) that for the supervided learning problem as shown in the notes has a lot to do with minimizing the KL divergence - a type of probabilistic 'distance' between $\\hat p_{data}$ and $p_{model}$. \n",
        "\n",
        "This method is the Stochastic Gradient Descent. Can ypu estimate the hypothesis for the `data` array above? "
      ]
    },
    {
      "cell_type": "markdown",
      "metadata": {
        "id": "UCGJuL987wgJ"
      },
      "source": [
        "# Using the graphic presentation above, I can determine the mean and the standard deviation of the P model: mean = 6.2 and standard deviation will be 2.5 as the negative Log Likelhood reaches the minimum at this point. we can also double check the results using the np.mean and np.std. So we have found the hypothesis and the Pmodel. "
      ]
    },
    {
      "cell_type": "code",
      "metadata": {
        "id": "HBv1r6OGQ6WS",
        "colab": {
          "base_uri": "https://localhost:8080/"
        },
        "outputId": "9937bdfb-c113-4c71-b58a-8a63120f6bef"
      },
      "source": [
        "print(\"the mean is:\", np.mean(data))\r\n",
        "print(\"the standard deviation is:\", np.std(data))"
      ],
      "execution_count": 8,
      "outputs": [
        {
          "output_type": "stream",
          "text": [
            "the mean is: 6.214285714285714\n",
            "the standard deviation is: 2.425418120907092\n"
          ],
          "name": "stdout"
        }
      ]
    },
    {
      "cell_type": "markdown",
      "metadata": {
        "id": "7tqGhdCXQjKa"
      },
      "source": [
        "You are given a problem that involves the relationship between $x$ and $y$. Estimate the parameters of a $p_{model}$ that fit the dataset (x,y) shown below.  "
      ]
    },
    {
      "cell_type": "code",
      "metadata": {
        "id": "7bTB95S3MclH"
      },
      "source": [
        "x = np.array([8, 16, 22, 33, 50, 51])\r\n",
        "y = np.array([5, 20, 14, 32, 42, 58])"
      ],
      "execution_count": 9,
      "outputs": []
    },
    {
      "cell_type": "code",
      "metadata": {
        "colab": {
          "base_uri": "https://localhost:8080/",
          "height": 291
        },
        "id": "FaCCr1ocMebC",
        "outputId": "83ebc1a2-f5a0-4559-e9ae-df8b286a6c5a"
      },
      "source": [
        "# First we plot the data to have an idea of the data distribution\r\n",
        "plt.plot(x,y,\"b.\")\r\n",
        "plt.xlabel(\"$x$\", fontsize=18)\r\n",
        "plt.ylabel(\"$y$\", rotation=0, fontsize=18)\r\n",
        "plt.axis([0, 60, 0, 60])\r\n",
        "plt.show()"
      ],
      "execution_count": 10,
      "outputs": [
        {
          "output_type": "display_data",
          "data": {
            "image/png": "[encoded data removed]",
            "text/plain": [
              "<Figure size 432x288 with 1 Axes>"
            ]
          },
          "metadata": {
            "tags": [],
            "needs_background": "light"
          }
        }
      ]
    },
    {
      "cell_type": "code",
      "metadata": {
        "id": "uFV6fXjVD9VJ"
      },
      "source": [
        "# First we need to do the transformation x and y\r\n",
        "x = np.array([[8, 16, 22, 33, 50, 51]]).T\r\n",
        "y = np.array([[5, 20, 14, 32, 42, 58]]).T"
      ],
      "execution_count": 11,
      "outputs": []
    },
    {
      "cell_type": "code",
      "metadata": {
        "id": "WmdbxqYaD0Jb"
      },
      "source": [
        "from sklearn import preprocessing\r\n",
        "scaler_x = preprocessing.StandardScaler().fit(x)\r\n",
        "scaler_y = preprocessing.StandardScaler().fit(y)"
      ],
      "execution_count": 12,
      "outputs": []
    },
    {
      "cell_type": "code",
      "metadata": {
        "colab": {
          "base_uri": "https://localhost:8080/"
        },
        "id": "OKzb-8fhLqcN",
        "outputId": "a40ce85b-9d5b-475e-e345-a4e59f8c22a1"
      },
      "source": [
        "m = len(x)\r\n",
        "X_b = np.c_[np.ones((m, 1)), x]\r\n",
        "print(X_b)"
      ],
      "execution_count": 13,
      "outputs": [
        {
          "output_type": "stream",
          "text": [
            "[[ 1.  8.]\n",
            " [ 1. 16.]\n",
            " [ 1. 22.]\n",
            " [ 1. 33.]\n",
            " [ 1. 50.]\n",
            " [ 1. 51.]]\n"
          ],
          "name": "stdout"
        }
      ]
    },
    {
      "cell_type": "code",
      "metadata": {
        "colab": {
          "base_uri": "https://localhost:8080/"
        },
        "id": "6h3ZmCR_LuSp",
        "outputId": "a2d969bc-006d-40f0-8c36-fd5a4ace43b6"
      },
      "source": [
        "X_b = scaler_x.transform(X_b)\r\n",
        "print(X_b)"
      ],
      "execution_count": 14,
      "outputs": [
        {
          "output_type": "stream",
          "text": [
            "[[-1.77921923 -1.34975252]\n",
            " [-1.77921923 -0.85893342]\n",
            " [-1.77921923 -0.4908191 ]\n",
            " [-1.77921923  0.18405716]\n",
            " [-1.77921923  1.22704775]\n",
            " [-1.77921923  1.28840013]]\n"
          ],
          "name": "stdout"
        }
      ]
    },
    {
      "cell_type": "code",
      "metadata": {
        "colab": {
          "base_uri": "https://localhost:8080/"
        },
        "id": "SDeffxXLLzFs",
        "outputId": "b8d5c8f9-a07c-44d9-f6eb-a28093ce07c1"
      },
      "source": [
        "y = scaler_y.transform(y)\r\n",
        "print(y)"
      ],
      "execution_count": 15,
      "outputs": [
        {
          "output_type": "stream",
          "text": [
            "[[-1.32075979]\n",
            " [-0.47772163]\n",
            " [-0.81493689]\n",
            " [ 0.1967089 ]\n",
            " [ 0.75873435]\n",
            " [ 1.65797506]]\n"
          ],
          "name": "stdout"
        }
      ]
    },
    {
      "cell_type": "code",
      "metadata": {
        "colab": {
          "base_uri": "https://localhost:8080/"
        },
        "id": "jFCR7YfwMuuF",
        "outputId": "c2f8a182-ad98-4204-881c-2434c6201285"
      },
      "source": [
        "# Using the Normal Equation to find the parameters of the Pmodel. \r\n",
        "theta_best=np.linalg.inv(X_b.T.dot(X_b)).dot(X_b.T).dot(y)\r\n",
        "theta_best"
      ],
      "execution_count": 16,
      "outputs": [
        {
          "output_type": "execute_result",
          "data": {
            "text/plain": [
              "array([[5.55111512e-17],\n",
              "       [9.49393460e-01]])"
            ]
          },
          "metadata": {
            "tags": []
          },
          "execution_count": 16
        }
      ]
    },
    {
      "cell_type": "code",
      "metadata": {
        "colab": {
          "base_uri": "https://localhost:8080/",
          "height": 282
        },
        "id": "A-py5Vmcyzq5",
        "outputId": "9f2698fe-de77-4925-cf74-89bbeeb2a0a5"
      },
      "source": [
        "plt.plot(X_b[:,1], y, \"b.\")\r\n",
        "X_new = np.array([[-2], [2]])\r\n",
        "X_new_b = np.c_[np.ones((2, 1)), X_new]\r\n",
        "y_predict = X_new_b.dot(theta_best)\r\n",
        "plt.plot(X_new, y_predict)"
      ],
      "execution_count": 18,
      "outputs": [
        {
          "output_type": "execute_result",
          "data": {
            "text/plain": [
              "[<matplotlib.lines.Line2D at 0x7f5aaedeae50>]"
            ]
          },
          "metadata": {
            "tags": []
          },
          "execution_count": 18
        },
        {
          "output_type": "display_data",
          "data": {
            "image/png": "[encoded data removed]",
            "text/plain": [
              "<Figure size 432x288 with 1 Axes>"
            ]
          },
          "metadata": {
            "tags": [],
            "needs_background": "light"
          }
        }
      ]
    },
    {
      "cell_type": "code",
      "metadata": {
        "colab": {
          "base_uri": "https://localhost:8080/"
        },
        "id": "MEh2hw1VZT2D",
        "outputId": "d69d3d22-26e4-4648-cc03-7deb63193945"
      },
      "source": [
        "#using linear_regression to find the parameters of the Pmodel\r\n",
        "from sklearn.linear_model import LinearRegression\r\n",
        "lin_reg=LinearRegression()\r\n",
        "lin_reg.fit(X_b,y)\r\n",
        "lin_reg.intercept_, lin_reg.coef_"
      ],
      "execution_count": null,
      "outputs": [
        {
          "output_type": "execute_result",
          "data": {
            "text/plain": [
              "(array([0.]), array([[0.        , 0.94939346]]))"
            ]
          },
          "metadata": {
            "tags": []
          },
          "execution_count": 75
        }
      ]
    },
    {
      "cell_type": "markdown",
      "metadata": {
        "id": "amim8xQLTUlS"
      },
      "source": [
        "OBSERVATION OF THE PARAMETERS OF Pmodel USING NORMAL EQUATION AND LINEAR REGRESSION: WE CAN SEE THAT THE RESULTS OBTAINED USING THE TWO METHODS ARE THE SAME. "
      ]
    },
    {
      "cell_type": "code",
      "metadata": {
        "colab": {
          "base_uri": "https://localhost:8080/"
        },
        "id": "mRqCcJ7TYNo1",
        "outputId": "7f9f1cc1-1785-4f8e-e4a2-c22e6159ca70"
      },
      "source": [
        "# Using Batch Gradient Descent: \r\n",
        "eta=0.1\r\n",
        "n_iterations=1000\r\n",
        "m=100\r\n",
        "theta=np.random.randn(2,1)\r\n",
        "\r\n",
        "for iteration in range(n_iterations):\r\n",
        "  gradients=2/m *X_b.T.dot(X_b.dot(theta) - y)\r\n",
        "  theta=theta-eta*gradients\r\n",
        "theta\r\n",
        "\r\n"
      ],
      "execution_count": 20,
      "outputs": [
        {
          "output_type": "execute_result",
          "data": {
            "text/plain": [
              "array([[4.38229799e-17],\n",
              "       [9.49383746e-01]])"
            ]
          },
          "metadata": {
            "tags": []
          },
          "execution_count": 20
        }
      ]
    },
    {
      "cell_type": "code",
      "metadata": {
        "colab": {
          "base_uri": "https://localhost:8080/",
          "height": 282
        },
        "id": "oBaI7TMGy9Uu",
        "outputId": "ebc79160-979b-48e7-b0d9-fbd388e65c00"
      },
      "source": [
        "plt.plot(X_b[:,1], y, \"b.\")\r\n",
        "y_pred_gd=X_new_b.dot(theta)\r\n",
        "plt.plot(X_new, y_pred_gd)"
      ],
      "execution_count": 21,
      "outputs": [
        {
          "output_type": "execute_result",
          "data": {
            "text/plain": [
              "[<matplotlib.lines.Line2D at 0x7f5ab8a6d950>]"
            ]
          },
          "metadata": {
            "tags": []
          },
          "execution_count": 21
        },
        {
          "output_type": "display_data",
          "data": {
            "image/png": "[encoded data removed]",
            "text/plain": [
              "<Figure size 432x288 with 1 Axes>"
            ]
          },
          "metadata": {
            "tags": [],
            "needs_background": "light"
          }
        }
      ]
    },
    {
      "cell_type": "markdown",
      "metadata": {
        "id": "fgh4j8VlU-3n"
      },
      "source": [
        "# USING THE BATCH GRADIENT DESCENT, THE PARAMETERS OF Pmodel THAT WE OBTAINED QUITE MATCH WITH THE ONES THAT WE HAVE USING LINEAR REGRESSION AND NORMAL EQUATION. I DECIDE THAT eta0 WILL BE 0.1, n_iterations IS 1000 AND m IS 100.  "
      ]
    },
    {
      "cell_type": "code",
      "metadata": {
        "colab": {
          "base_uri": "https://localhost:8080/"
        },
        "id": "ZaqJlxafSjSW",
        "outputId": "63e5b710-2ab8-4cca-e5bf-37ecccb62530"
      },
      "source": [
        "#Using the Stochastic Gradient Descent\r\n",
        "from sklearn.linear_model import SGDRegressor\r\n",
        "sgd_reg = SGDRegressor( penalty=None, eta0=0.1)\r\n",
        "sgd_reg.fit(X_b, y.ravel())\r\n",
        "sgd_reg.intercept_, sgd_reg.coef_"
      ],
      "execution_count": 23,
      "outputs": [
        {
          "output_type": "execute_result",
          "data": {
            "text/plain": [
              "(array([-0.00213479]), array([0.00379826, 0.93656896]))"
            ]
          },
          "metadata": {
            "tags": []
          },
          "execution_count": 23
        }
      ]
    },
    {
      "cell_type": "code",
      "metadata": {
        "colab": {
          "base_uri": "https://localhost:8080/",
          "height": 283
        },
        "id": "Ckno8zZ-zMKe",
        "outputId": "a42ee296-0080-4348-fdcd-f3a3f7015b56"
      },
      "source": [
        "plt.plot(X_b[:,1], y, \"b.\")\r\n",
        "y_pred_sgd=sgd_reg.predict(X_new_b)\r\n",
        "plt.plot(X_new, y_pred_sgd)"
      ],
      "execution_count": 27,
      "outputs": [
        {
          "output_type": "execute_result",
          "data": {
            "text/plain": [
              "[<matplotlib.lines.Line2D at 0x7f5aacdf7890>]"
            ]
          },
          "metadata": {
            "tags": []
          },
          "execution_count": 27
        },
        {
          "output_type": "display_data",
          "data": {
            "image/png": "[encoded data removed]",
            "text/plain": [
              "<Figure size 432x288 with 1 Axes>"
            ]
          },
          "metadata": {
            "tags": [],
            "needs_background": "light"
          }
        }
      ]
    },
    {
      "cell_type": "markdown",
      "metadata": {
        "id": "NRTyhxWAZXDT"
      },
      "source": [
        "USING THE STOCHASTIC GRADIENT DESCENT, I GOT THE PARAMETERS OF THE Pmodel AS ABOVE. THE RESULTS ARE QUITE SIMILAR TO THE ONES OBTAINED FROM THE BATCH GRADIENT DESCENT.  "
      ]
    },
    {
      "cell_type": "code",
      "metadata": {
        "colab": {
          "base_uri": "https://localhost:8080/"
        },
        "id": "Nw1ANjt2PKkD",
        "outputId": "8ea710f6-7eb2-4180-d9cd-50dca2b45c00"
      },
      "source": [
        "# another way of calculating the theta using stochastic gradient descent \r\n",
        "n_epochs = 50\r\n",
        "t0,t1=5,50\r\n",
        "\r\n",
        "def learning_schedule(t):\r\n",
        "    return t0 / (t + t1)\r\n",
        "theta_sgd = np.random.randn(2,1)\r\n",
        "#print(theta_sgd)\r\n",
        "\r\n",
        "for epoch in range(n_epochs):\r\n",
        "    for i in range(m):\r\n",
        "        random_index = np.random.randint(m)\r\n",
        "        xi = X_b[random_index:random_index+1]\r\n",
        "        yi = y[random_index:random_index+1]\r\n",
        "        gradients = 2 * xi.T.dot(xi.dot(theta_sgd) - yi)\r\n",
        "        eta = learning_schedule(epoch * m + i)\r\n",
        "        theta_sgd = theta_sgd - eta * gradients\r\n",
        "\r\n",
        "\r\n",
        "theta_sgd"
      ],
      "execution_count": 25,
      "outputs": [
        {
          "output_type": "execute_result",
          "data": {
            "text/plain": [
              "array([[-0.00606036],\n",
              "       [ 0.90376298]])"
            ]
          },
          "metadata": {
            "tags": []
          },
          "execution_count": 25
        }
      ]
    },
    {
      "cell_type": "code",
      "metadata": {
        "colab": {
          "base_uri": "https://localhost:8080/",
          "height": 282
        },
        "id": "bo7ZZk0JzTma",
        "outputId": "611646cb-f76d-4f52-e678-2731d90706cd"
      },
      "source": [
        "plt.plot(X_b[:,1], y, \"b.\")\r\n",
        "y_pred_sgd2=X_new_b.dot(theta_sgd)\r\n",
        "plt.plot(X_new, y_pred_sgd2)"
      ],
      "execution_count": 28,
      "outputs": [
        {
          "output_type": "execute_result",
          "data": {
            "text/plain": [
              "[<matplotlib.lines.Line2D at 0x7f5aacd7b190>]"
            ]
          },
          "metadata": {
            "tags": []
          },
          "execution_count": 28
        },
        {
          "output_type": "display_data",
          "data": {
            "image/png": "[encoded data removed]",
            "text/plain": [
              "<Figure size 432x288 with 1 Axes>"
            ]
          },
          "metadata": {
            "tags": [],
            "needs_background": "light"
          }
        }
      ]
    },
    {
      "cell_type": "markdown",
      "metadata": {
        "id": "6BDjtdMFghC5"
      },
      "source": [
        "# References\n",
        "\n",
        "1. https://medium.com/@rrfd/what-is-maximum-likelihood-estimation-examples-in-python-791153818030\n",
        "2. [Section 4.1 - Numerical computation](https://www.deeplearningbook.org/contents/numerical.html)\n",
        "3. [Bayes for beginners - probability and likelihood](https://www.psychologicalscience.org/observer/bayes-for-beginners-probability-and-likelihood) "
      ]
    }
  ]
}