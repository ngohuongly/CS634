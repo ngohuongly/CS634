{
  "nbformat": 4,
  "nbformat_minor": 0,
  "metadata": {
    "colab": {
      "name": "Copy of maximum_likelihood_Ngo Huong Ly.ipynb",
      "provenance": [],
      "collapsed_sections": [],
      "include_colab_link": true
    },
    "kernelspec": {
      "name": "python3",
      "display_name": "Python 3"
    }
  },
  "cells": [
    {
      "cell_type": "markdown",
      "metadata": {
        "id": "view-in-github",
        "colab_type": "text"
      },
      "source": [
        "<a href=\"https://colab.research.google.com/github/ngohuongly/CS634/blob/main/Copy_of_maximum_likelihood_Ngo_Huong_Ly.ipynb\" target=\"_parent\"><img src=\"https://colab.research.google.com/assets/colab-badge.svg\" alt=\"Open In Colab\"/></a>"
      ]
    },
    {
      "cell_type": "markdown",
      "metadata": {
        "id": "TnAHzuk-fygI"
      },
      "source": [
        "# Maximum Likelihood Method\n",
        "\n"
      ]
    },
    {
      "cell_type": "markdown",
      "metadata": {
        "id": "qJgvCczRqlkV"
      },
      "source": [
        "Lets start with a simple Gaussian distribution. "
      ]
    },
    {
      "cell_type": "code",
      "metadata": {
        "colab": {
          "base_uri": "https://localhost:8080/",
          "height": 282
        },
        "id": "v1aNtafG0qKQ",
        "outputId": "bc52d92d-d66e-4830-8854-6cca4a06bc4e"
      },
      "source": [
        "import numpy as np\n",
        "from scipy.stats import norm\n",
        "import matplotlib.pyplot as plt\n",
        "fig, ax = plt.subplots(1, 1)\n",
        "x = np.linspace(norm.ppf(0.01),\n",
        "                norm.ppf(0.99), 100)\n",
        "ax.plot(x, norm.pdf(x),\n",
        "       'r-', lw=5, alpha=0.6, label='norm pdf')"
      ],
      "execution_count": 57,
      "outputs": [
        {
          "output_type": "execute_result",
          "data": {
            "text/plain": [
              "[<matplotlib.lines.Line2D at 0x7f6a367abad0>]"
            ]
          },
          "metadata": {
            "tags": []
          },
          "execution_count": 57
        },
        {
          "output_type": "display_data",
          "data": {
            "image/png": "[encoded data removed]",
            "text/plain": [
              "<Figure size 432x288 with 1 Axes>"
            ]
          },
          "metadata": {
            "tags": [],
            "needs_background": "light"
          }
        }
      ]
    },
    {
      "cell_type": "markdown",
      "metadata": {
        "id": "3DmWU03fq_G-"
      },
      "source": [
        "We can retrieve the probability of events happening, e.g. x=3.0"
      ]
    },
    {
      "cell_type": "code",
      "metadata": {
        "id": "cmOBUIzN2GuZ"
      },
      "source": [
        "p_3 = norm.pdf(3.0, 5.0, 3.0)"
      ],
      "execution_count": 58,
      "outputs": []
    },
    {
      "cell_type": "markdown",
      "metadata": {
        "id": "8Jt3N5AgrPZh"
      },
      "source": [
        "We can also easily calculate the joint probability of iid (indepenent and identically distributed) events "
      ]
    },
    {
      "cell_type": "code",
      "metadata": {
        "id": "PQ8AYhYt2-9p"
      },
      "source": [
        "p_7 = norm.pdf(7.0, 7.0, 3.0)\n",
        "\n",
        "joint = p_3*p_7"
      ],
      "execution_count": 59,
      "outputs": []
    },
    {
      "cell_type": "markdown",
      "metadata": {
        "id": "c5GY7PmgrtEq"
      },
      "source": [
        "Assume now that someone is giving us an array of values and ask us to estimate a $p_{model}$ that is a 'good fit' to the gievn data. How we can go about solving this problem with Maximum Likelihood Estimation (MLE)? Notice that as addressed in [3], probability and likelihood have a reverse relationship.  Probability attaches to possible results; likelihood attaches to hypotheses. The likelihood function gives the relative likelihoods of different values for the parameter(s) of the distribution from which the data are assumed to have been drawn, given those data.\n",
        "\n",
        "Lets plot a couple of $p_{model}$ hypotheses - the data are shown below in the same plot. Both hypotheses are plausible.  "
      ]
    },
    {
      "cell_type": "code",
      "metadata": {
        "colab": {
          "base_uri": "https://localhost:8080/",
          "height": 282
        },
        "id": "JLNGc_GI3X7B",
        "outputId": "c792b838-3387-4b97-fc7c-b54d4130901f"
      },
      "source": [
        "data = [4, 5, 7, 8, 8, 9, 10, 5, 2, 3, 5, 4, 8, 9]\n",
        "\n",
        "fig, ax = plt.subplots(1, 1)\n",
        "x = np.linspace(0, 20, 100)\n",
        "ax.plot(x, norm.pdf(x,5,3),\n",
        "       'r-', lw=5, alpha=0.6, label='norm pdf')\n",
        "ax.plot(x, norm.pdf(x,7,3),\n",
        "       'b-', lw=5, alpha=0.6, label='norm pdf')\n",
        "ax.plot(data, np.zeros(len(data)).tolist(),'o')"
      ],
      "execution_count": 60,
      "outputs": [
        {
          "output_type": "execute_result",
          "data": {
            "text/plain": [
              "[<matplotlib.lines.Line2D at 0x7f6a3671d790>]"
            ]
          },
          "metadata": {
            "tags": []
          },
          "execution_count": 60
        },
        {
          "output_type": "display_data",
          "data": {
            "image/png": "[encoded data removed]",
            "text/plain": [
              "<Figure size 432x288 with 1 Axes>"
            ]
          },
          "metadata": {
            "tags": [],
            "needs_background": "light"
          }
        }
      ]
    },
    {
      "cell_type": "markdown",
      "metadata": {
        "id": "-vmuSc_UshjC"
      },
      "source": [
        "As detailed in Ref [2], its important to safeguard against underflow that may well result from multiplying many numbers (for large datasets) that are less than 1.0 (probabilities). So we do the calculations in the log domain using the identity\n",
        "\n",
        "$$log(a \\times b)=log(a) + log(b)$$"
      ]
    },
    {
      "cell_type": "markdown",
      "metadata": {
        "id": "LOTKDRSMtb-r"
      },
      "source": [
        "Lets look at a function that calculates the log-likelihood for the two hypotheses above given the data denoted by $x$. "
      ]
    },
    {
      "cell_type": "code",
      "metadata": {
        "id": "8OJewE_D2aA9"
      },
      "source": [
        "def compare_data_to_dist(x, mu_1=5, mu_2=7, sd_1=3, sd_2=3):\n",
        "    ll_1 = 0\n",
        "    ll_2 = 0\n",
        "    for i in x:\n",
        "        ll_1 += np.log(norm.pdf(i, mu_1, sd_1))\n",
        "        ll_2 += np.log(norm.pdf(i, mu_2, sd_2))\n",
        "    \n",
        "    print(\"The LL of of x for mu = %d and sd = %d is: %.4f\" % (mu_1, sd_1, ll_1))\n",
        "    print(\"The LL of of x for mu = %d and sd = %d is: %.4f\" % (mu_2, sd_2, ll_2))\n"
      ],
      "execution_count": 61,
      "outputs": []
    },
    {
      "cell_type": "markdown",
      "metadata": {
        "id": "fxXoRssGt4Bu"
      },
      "source": [
        "We can readily compate the two hypotheses according to the maximum likelihood criterion. Note that because the $log$ is a monotonic function, the conclusion as to which hypothesis makes the data more likely is the same in the natural or the $log$ domain. "
      ]
    },
    {
      "cell_type": "code",
      "metadata": {
        "colab": {
          "base_uri": "https://localhost:8080/"
        },
        "id": "g5jQmd1b5h3a",
        "outputId": "55460bdd-1bb8-48e9-96a9-7f61cde62d72"
      },
      "source": [
        "ll_comparison = compare_data_to_dist(data)"
      ],
      "execution_count": 62,
      "outputs": [
        {
          "output_type": "stream",
          "text": [
            "The LL of of x for mu = 5 and sd = 3 is: -33.9679\n",
            "The LL of of x for mu = 7 and sd = 3 is: -33.3013\n"
          ],
          "name": "stdout"
        }
      ]
    },
    {
      "cell_type": "code",
      "metadata": {
        "id": "foi6wu59sIyw"
      },
      "source": [
        ""
      ],
      "execution_count": null,
      "outputs": []
    },
    {
      "cell_type": "markdown",
      "metadata": {
        "id": "2gPAwYpxu4fc"
      },
      "source": [
        "It seems that the second hypothesis \n",
        "\n",
        "$$p_{model}(x|\\mathbf{w}) = N(x | [\\mu_2, \\sigma_2^2])$$\n",
        "\n",
        "is preferred compared to the first. "
      ]
    },
    {
      "cell_type": "markdown",
      "metadata": {
        "id": "eKwCRfyh_FgY"
      },
      "source": [
        "We can now start searching the hypothesis space (parameter space) for the best parameter set $\\mathbf w$. "
      ]
    },
    {
      "cell_type": "code",
      "metadata": {
        "colab": {
          "base_uri": "https://localhost:8080/",
          "height": 597
        },
        "id": "uw-K6S7A7mqA",
        "outputId": "ab78fb72-9465-4e0e-fde3-ac1b97d4920d"
      },
      "source": [
        "# Plot the Negative Log Likelihood Functions for different values of mu \n",
        "# and sigma\n",
        "def plot_ll(x):\n",
        "    plt.figure(figsize=(5,8))\n",
        "    plt.title(\"Neg Log Likelihood Functions\")\n",
        "    plt.xlabel(\"Mean Estimate\")\n",
        "    plt.ylabel(\"Neg Log Likelihood\")\n",
        "    plt.ylim(30, 60)\n",
        "    plt.xlim(0, 12)\n",
        "    mu_set = np.linspace(0, 16, 1000)\n",
        "    sd_set = [.5, 1.5, 2.5, 3.5, 4.5]\n",
        "    max_val = max_val_location = None\n",
        "    for i in sd_set:\n",
        "        ll_array = []\n",
        "        \n",
        "        for j in mu_set:\n",
        "            temp_mm = 0\n",
        "            \n",
        "            for k in x:\n",
        "                temp_mm += np.log(norm.pdf(k, j, i)) # The LL function\n",
        "            ll_array.append(-temp_mm) # negative LL\n",
        "        \n",
        "            if (max_val is None):\n",
        "                max_val = min(ll_array)\n",
        "            elif max(ll_array) > max_val:\n",
        "                max_val = min(ll_array)\n",
        "                max_val_location = j\n",
        "        \n",
        "        # Plot the results\n",
        "        plt.plot(mu_set, ll_array, label=\"sd: %.1f\" % i)\n",
        "        \n",
        "        print(\"The max LL for sd %.2f is %.2f\" % (i, min(ll_array)))    \n",
        "    plt.axvline(x=max_val_location, color='black', ls='-.')\n",
        "    plt.legend(loc='lower left')\n",
        "plot_ll(data);\n"
      ],
      "execution_count": 63,
      "outputs": [
        {
          "output_type": "stream",
          "text": [
            "The max LL for sd 0.50 is 167.88\n",
            "The max LL for sd 1.50 is 36.84\n",
            "The max LL for sd 2.50 is 32.28\n",
            "The max LL for sd 3.50 is 33.77\n",
            "The max LL for sd 4.50 is 35.96\n"
          ],
          "name": "stdout"
        },
        {
          "output_type": "display_data",
          "data": {
            "image/png": "[encoded data removed]",
            "text/plain": [
              "<Figure size 360x576 with 1 Axes>"
            ]
          },
          "metadata": {
            "tags": [],
            "needs_background": "light"
          }
        }
      ]
    },
    {
      "cell_type": "markdown",
      "metadata": {
        "id": "fxNMqYYIvi3a"
      },
      "source": [
        "But there is a better method than exhaustively searching in the parameter space. We developed a method that incrementally minimizes a loss function that is ultimately linked to the concept of entropy - the cross entropy (CE) that for the supervided learning problem as shown in the notes has a lot to do with minimizing the KL divergence - a type of probabilistic 'distance' between $\\hat p_{data}$ and $p_{model}$. \n",
        "\n",
        "This method is the Stochastic Gradient Descent. Can ypu estimate the hypothesis for the `data` array above? "
      ]
    },
    {
      "cell_type": "markdown",
      "metadata": {
        "id": "UCGJuL987wgJ"
      },
      "source": [
        "# Using the graphic presentation above, I can determine the mean and the standard deviation of the P model: mean = 6.2 and standard deviation will be 2.5 as the negative Log Likelhood reaches the minimum at this point. we can also double check the results using the np.mean and np.std. So we have found the hypothesis and the Pmodel. "
      ]
    },
    {
      "cell_type": "code",
      "metadata": {
        "id": "HBv1r6OGQ6WS",
        "colab": {
          "base_uri": "https://localhost:8080/"
        },
        "outputId": "e24e32d1-3bcf-48ac-81d9-e33efe69d3ee"
      },
      "source": [
        "print(\"the mean is:\", np.mean(data))\r\n",
        "print(\"the standard deviation is:\", np.std(data))"
      ],
      "execution_count": 64,
      "outputs": [
        {
          "output_type": "stream",
          "text": [
            "the mean is: 6.214285714285714\n",
            "the standard deviation is: 2.425418120907092\n"
          ],
          "name": "stdout"
        }
      ]
    },
    {
      "cell_type": "markdown",
      "metadata": {
        "id": "7tqGhdCXQjKa"
      },
      "source": [
        "You are given a problem that involves the relationship between $x$ and $y$. Estimate the parameters of a $p_{model}$ that fit the dataset (x,y) shown below.  "
      ]
    },
    {
      "cell_type": "code",
      "metadata": {
        "id": "7bTB95S3MclH"
      },
      "source": [
        "x = np.array([8, 16, 22, 33, 50, 51])\r\n",
        "y = np.array([5, 20, 14, 32, 42, 58])"
      ],
      "execution_count": 65,
      "outputs": []
    },
    {
      "cell_type": "code",
      "metadata": {
        "colab": {
          "base_uri": "https://localhost:8080/",
          "height": 291
        },
        "id": "FaCCr1ocMebC",
        "outputId": "ba6bcf57-9b1b-4c2e-97f5-bd2a86e76d73"
      },
      "source": [
        "# First we plot the data to have an idea of the data distribution\r\n",
        "plt.plot(x,y,\"b.\")\r\n",
        "plt.xlabel(\"$x$\", fontsize=18)\r\n",
        "plt.ylabel(\"$y$\", rotation=0, fontsize=18)\r\n",
        "plt.axis([0, 60, 0, 60])\r\n",
        "plt.show()"
      ],
      "execution_count": 66,
      "outputs": [
        {
          "output_type": "display_data",
          "data": {
            "image/png": "[encoded data removed]",
            "text/plain": [
              "<Figure size 432x288 with 1 Axes>"
            ]
          },
          "metadata": {
            "tags": [],
            "needs_background": "light"
          }
        }
      ]
    },
    {
      "cell_type": "code",
      "metadata": {
        "id": "uFV6fXjVD9VJ"
      },
      "source": [
        "# First we need to do the transformation x and y\r\n",
        "x = np.array([[8, 16, 22, 33, 50, 51]]).T\r\n",
        "y = np.array([[5, 20, 14, 32, 42, 58]]).T"
      ],
      "execution_count": 67,
      "outputs": []
    },
    {
      "cell_type": "code",
      "metadata": {
        "id": "WmdbxqYaD0Jb"
      },
      "source": [
        "from sklearn import preprocessing\r\n",
        "scaler_x = preprocessing.StandardScaler().fit(x)\r\n",
        "scaler_y = preprocessing.StandardScaler().fit(y)"
      ],
      "execution_count": 68,
      "outputs": []
    },
    {
      "cell_type": "code",
      "metadata": {
        "colab": {
          "base_uri": "https://localhost:8080/"
        },
        "id": "OKzb-8fhLqcN",
        "outputId": "6983b305-99f1-4a30-e59b-cfb0ce37d90a"
      },
      "source": [
        "m = len(x)\r\n",
        "X_b = np.c_[np.ones((m, 1)), x]\r\n",
        "print(X_b)"
      ],
      "execution_count": 70,
      "outputs": [
        {
          "output_type": "stream",
          "text": [
            "[[ 1.  8.]\n",
            " [ 1. 16.]\n",
            " [ 1. 22.]\n",
            " [ 1. 33.]\n",
            " [ 1. 50.]\n",
            " [ 1. 51.]]\n"
          ],
          "name": "stdout"
        }
      ]
    },
    {
      "cell_type": "code",
      "metadata": {
        "colab": {
          "base_uri": "https://localhost:8080/"
        },
        "id": "6h3ZmCR_LuSp",
        "outputId": "8bd2ce4b-c700-4e6b-a4a7-99dc30ae36f1"
      },
      "source": [
        "X_b = scaler_x.transform(X_b)\r\n",
        "print(X_b)"
      ],
      "execution_count": 71,
      "outputs": [
        {
          "output_type": "stream",
          "text": [
            "[[-1.77921923 -1.34975252]\n",
            " [-1.77921923 -0.85893342]\n",
            " [-1.77921923 -0.4908191 ]\n",
            " [-1.77921923  0.18405716]\n",
            " [-1.77921923  1.22704775]\n",
            " [-1.77921923  1.28840013]]\n"
          ],
          "name": "stdout"
        }
      ]
    },
    {
      "cell_type": "code",
      "metadata": {
        "colab": {
          "base_uri": "https://localhost:8080/"
        },
        "id": "SDeffxXLLzFs",
        "outputId": "d48f06b1-df14-45b8-9de6-68ba74b56756"
      },
      "source": [
        "y = scaler_y.transform(y)\r\n",
        "print(y)"
      ],
      "execution_count": 72,
      "outputs": [
        {
          "output_type": "stream",
          "text": [
            "[[-1.32075979]\n",
            " [-0.47772163]\n",
            " [-0.81493689]\n",
            " [ 0.1967089 ]\n",
            " [ 0.75873435]\n",
            " [ 1.65797506]]\n"
          ],
          "name": "stdout"
        }
      ]
    },
    {
      "cell_type": "code",
      "metadata": {
        "colab": {
          "base_uri": "https://localhost:8080/"
        },
        "id": "jFCR7YfwMuuF",
        "outputId": "ef7f015b-720e-4a90-c000-3e3c0b287433"
      },
      "source": [
        "# Using the Normal Equation to find the parameters of the Pmodel. \r\n",
        "theta_best=np.linalg.inv(X_b.T.dot(X_b)).dot(X_b.T).dot(y)\r\n",
        "theta_best"
      ],
      "execution_count": 73,
      "outputs": [
        {
          "output_type": "execute_result",
          "data": {
            "text/plain": [
              "array([[5.55111512e-17],\n",
              "       [9.49393460e-01]])"
            ]
          },
          "metadata": {
            "tags": []
          },
          "execution_count": 73
        }
      ]
    },
    {
      "cell_type": "code",
      "metadata": {
        "colab": {
          "base_uri": "https://localhost:8080/",
          "height": 370
        },
        "id": "b8DzvtWgZmBv",
        "outputId": "eb1b1b81-b8e3-4185-c87f-bf3d8a493ade"
      },
      "source": [
        "#predict y_pred using x\r\n",
        "y_pred = X_b.dot(theta_best)\r\n",
        "print(\"the results y_pred are:\", y_pred)\r\n",
        "plt.plot(x,y_pred, \"r-\")\r\n",
        "plt.plot(x, y, \"b.\")\r\n",
        "plt.axis([0, 60, 0, 3])\r\n",
        "plt.show()"
      ],
      "execution_count": 78,
      "outputs": [
        {
          "output_type": "stream",
          "text": [
            "the results y_pred are: [[-1.28144622]\n",
            " [-0.81546577]\n",
            " [-0.46598044]\n",
            " [ 0.17474267]\n",
            " [ 1.16495111]\n",
            " [ 1.22319866]]\n"
          ],
          "name": "stdout"
        },
        {
          "output_type": "display_data",
          "data": {
            "image/png": "[encoded data removed]",
            "text/plain": [
              "<Figure size 432x288 with 1 Axes>"
            ]
          },
          "metadata": {
            "tags": [],
            "needs_background": "light"
          }
        }
      ]
    },
    {
      "cell_type": "code",
      "metadata": {
        "colab": {
          "base_uri": "https://localhost:8080/"
        },
        "id": "MEh2hw1VZT2D",
        "outputId": "d69d3d22-26e4-4648-cc03-7deb63193945"
      },
      "source": [
        "#using linear_regression to find the parameters of the Pmodel\r\n",
        "from sklearn.linear_model import LinearRegression\r\n",
        "lin_reg=LinearRegression()\r\n",
        "lin_reg.fit(X_b,y)\r\n",
        "lin_reg.intercept_, lin_reg.coef_"
      ],
      "execution_count": 75,
      "outputs": [
        {
          "output_type": "execute_result",
          "data": {
            "text/plain": [
              "(array([0.]), array([[0.        , 0.94939346]]))"
            ]
          },
          "metadata": {
            "tags": []
          },
          "execution_count": 75
        }
      ]
    },
    {
      "cell_type": "markdown",
      "metadata": {
        "id": "amim8xQLTUlS"
      },
      "source": [
        "OBSERVATION OF THE PARAMETERS OF Pmodel USING NORMAL EQUATION AND LINEAR REGRESSION: WE CAN SEE THAT THE RESULTS OBTAINED USING THE TWO METHODS ARE THE SAME. "
      ]
    },
    {
      "cell_type": "code",
      "metadata": {
        "colab": {
          "base_uri": "https://localhost:8080/"
        },
        "id": "mRqCcJ7TYNo1",
        "outputId": "4047928f-afed-43a9-b671-4d860353c7a8"
      },
      "source": [
        "# Using Batch Gradient Descent: \r\n",
        "eta=0.1\r\n",
        "n_iterations=1000\r\n",
        "m=100\r\n",
        "theta=np.random.randn(2,1)\r\n",
        "\r\n",
        "for iteration in range(n_iterations):\r\n",
        "  gradients=2/m *X_b.T.dot(X_b.dot(theta) - y)\r\n",
        "  theta=theta-eta*gradients\r\n",
        "theta\r\n",
        "\r\n"
      ],
      "execution_count": 79,
      "outputs": [
        {
          "output_type": "execute_result",
          "data": {
            "text/plain": [
              "array([[3.14473162e-17],\n",
              "       [9.49386603e-01]])"
            ]
          },
          "metadata": {
            "tags": []
          },
          "execution_count": 79
        }
      ]
    },
    {
      "cell_type": "code",
      "metadata": {
        "colab": {
          "base_uri": "https://localhost:8080/",
          "height": 370
        },
        "id": "KSo0T9apeXx3",
        "outputId": "89b63ba3-6b27-4c26-b4fc-448063fca089"
      },
      "source": [
        "y_pred_gd=X_b.dot(theta)\r\n",
        "print(\"the results y_pred using Gradient Descent are:\", y_pred_gd)\r\n",
        "\r\n",
        "plt.plot(x,y_pred_gd, \"r-\")\r\n",
        "plt.plot(x, y, \"b.\")\r\n",
        "plt.axis([0, 60, 0, 3])\r\n",
        "plt.show()"
      ],
      "execution_count": 81,
      "outputs": [
        {
          "output_type": "stream",
          "text": [
            "the results y_pred using Gradient Descent are: [[-1.28143696]\n",
            " [-0.81545988]\n",
            " [-0.46597708]\n",
            " [ 0.1747414 ]\n",
            " [ 1.16494269]\n",
            " [ 1.22318983]]\n"
          ],
          "name": "stdout"
        },
        {
          "output_type": "display_data",
          "data": {
            "image/png": "[encoded data removed]",
            "text/plain": [
              "<Figure size 432x288 with 1 Axes>"
            ]
          },
          "metadata": {
            "tags": [],
            "needs_background": "light"
          }
        }
      ]
    },
    {
      "cell_type": "markdown",
      "metadata": {
        "id": "fgh4j8VlU-3n"
      },
      "source": [
        "# USING THE BATCH GRADIENT DESCENT, THE PARAMETERS OF Pmodel THAT WE OBTAINED QUITE MATCH WITH THE ONES THAT WE HAVE USING LINEAR REGRESSION AND NORMAL EQUATION. I DECIDE THAT eta0 WILL BE 0.1, n_iterations IS 1000 AND m IS 100.  "
      ]
    },
    {
      "cell_type": "code",
      "metadata": {
        "colab": {
          "base_uri": "https://localhost:8080/"
        },
        "id": "ZaqJlxafSjSW",
        "outputId": "ef7314cb-4f51-4bfa-f9cf-be448baf5104"
      },
      "source": [
        "#Using the Stochastic Gradient Descent\r\n",
        "from sklearn.linear_model import SGDRegressor\r\n",
        "sgd_reg = SGDRegressor( penalty=None, eta0=0.1)\r\n",
        "sgd_reg.fit(X_b, y.ravel())\r\n",
        "sgd_reg.intercept_, sgd_reg.coef_"
      ],
      "execution_count": 82,
      "outputs": [
        {
          "output_type": "execute_result",
          "data": {
            "text/plain": [
              "(array([-0.00121852]), array([0.00216802, 0.95158021]))"
            ]
          },
          "metadata": {
            "tags": []
          },
          "execution_count": 82
        }
      ]
    },
    {
      "cell_type": "code",
      "metadata": {
        "colab": {
          "base_uri": "https://localhost:8080/",
          "height": 269
        },
        "id": "joLugy9KbuIY",
        "outputId": "7b7ae8cb-b38e-4c1c-f7ac-ae64dee7b71f"
      },
      "source": [
        "y_pred_sgd=sgd_reg.predict(X_b)\r\n",
        "plt.plot(x,y_pred_sgd, \"r-\")\r\n",
        "plt.plot(x, y, \"b.\")\r\n",
        "plt.axis([0, 60, 0, 3])\r\n",
        "plt.show()"
      ],
      "execution_count": 83,
      "outputs": [
        {
          "output_type": "display_data",
          "data": {
            "image/png": "[encoded data removed]",
            "text/plain": [
              "<Figure size 432x288 with 1 Axes>"
            ]
          },
          "metadata": {
            "tags": [],
            "needs_background": "light"
          }
        }
      ]
    },
    {
      "cell_type": "markdown",
      "metadata": {
        "id": "NRTyhxWAZXDT"
      },
      "source": [
        "USING THE STOCHASTIC GRADIENT DESCENT, I GOT THE PARAMETERS OF THE Pmodel AS ABOVE. THE RESULTS ARE QUITE SIMILAR TO THE ONES OBTAINED FROM THE BATCH GRADIENT DESCENT.  "
      ]
    },
    {
      "cell_type": "code",
      "metadata": {
        "colab": {
          "base_uri": "https://localhost:8080/"
        },
        "id": "Nw1ANjt2PKkD",
        "outputId": "950273ce-afcc-4980-ce85-347a9993bd2c"
      },
      "source": [
        "# another way of calculating the theta using stochastic gradient descent \r\n",
        "n_epochs = 50\r\n",
        "t0,t1=5,50\r\n",
        "\r\n",
        "def learning_schedule(t):\r\n",
        "    return t0 / (t + t1)\r\n",
        "theta_sgd = np.random.randn(2,1)\r\n",
        "#print(theta_sgd)\r\n",
        "\r\n",
        "for epoch in range(n_epochs):\r\n",
        "    for i in range(m):\r\n",
        "        random_index = np.random.randint(m)\r\n",
        "        xi = X_b[random_index:random_index+1]\r\n",
        "        yi = y[random_index:random_index+1]\r\n",
        "        gradients = 2 * xi.T.dot(xi.dot(theta_sgd) - yi)\r\n",
        "        eta = learning_schedule(epoch * m + i)\r\n",
        "        theta_sgd = theta_sgd - eta * gradients\r\n",
        "\r\n",
        "\r\n",
        "theta_sgd"
      ],
      "execution_count": 84,
      "outputs": [
        {
          "output_type": "execute_result",
          "data": {
            "text/plain": [
              "array([[0.00851381],\n",
              "       [0.95237619]])"
            ]
          },
          "metadata": {
            "tags": []
          },
          "execution_count": 84
        }
      ]
    },
    {
      "cell_type": "markdown",
      "metadata": {
        "id": "6BDjtdMFghC5"
      },
      "source": [
        "# References\n",
        "\n",
        "1. https://medium.com/@rrfd/what-is-maximum-likelihood-estimation-examples-in-python-791153818030\n",
        "2. [Section 4.1 - Numerical computation](https://www.deeplearningbook.org/contents/numerical.html)\n",
        "3. [Bayes for beginners - probability and likelihood](https://www.psychologicalscience.org/observer/bayes-for-beginners-probability-and-likelihood) "
      ]
    }
  ]
}