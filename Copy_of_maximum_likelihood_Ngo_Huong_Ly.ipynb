{
  "nbformat": 4,
  "nbformat_minor": 0,
  "metadata": {
    "colab": {
      "name": "Copy of maximum_likelihood_Ngo Huong Ly.ipynb",
      "provenance": [],
      "collapsed_sections": [],
      "include_colab_link": true
    },
    "kernelspec": {
      "name": "python3",
      "display_name": "Python 3"
    }
  },
  "cells": [
    {
      "cell_type": "markdown",
      "metadata": {
        "id": "view-in-github",
        "colab_type": "text"
      },
      "source": [
        "<a href=\"https://colab.research.google.com/github/ngohuongly/CS634/blob/main/Copy_of_maximum_likelihood_Ngo_Huong_Ly.ipynb\" target=\"_parent\"><img src=\"https://colab.research.google.com/assets/colab-badge.svg\" alt=\"Open In Colab\"/></a>"
      ]
    },
    {
      "cell_type": "markdown",
      "metadata": {
        "id": "TnAHzuk-fygI"
      },
      "source": [
        "# Maximum Likelihood Method\n",
        "\n"
      ]
    },
    {
      "cell_type": "markdown",
      "metadata": {
        "id": "qJgvCczRqlkV"
      },
      "source": [
        "Lets start with a simple Gaussian distribution. "
      ]
    },
    {
      "cell_type": "code",
      "metadata": {
        "colab": {
          "base_uri": "https://localhost:8080/",
          "height": 282
        },
        "id": "v1aNtafG0qKQ",
        "outputId": "d1e0fb11-2923-4bb0-9cfb-46d1451b5963"
      },
      "source": [
        "import numpy as np\n",
        "from scipy.stats import norm\n",
        "import matplotlib.pyplot as plt\n",
        "fig, ax = plt.subplots(1, 1)\n",
        "x = np.linspace(norm.ppf(0.01),\n",
        "                norm.ppf(0.99), 100)\n",
        "ax.plot(x, norm.pdf(x),\n",
        "       'r-', lw=5, alpha=0.6, label='norm pdf')"
      ],
      "execution_count": null,
      "outputs": [
        {
          "output_type": "execute_result",
          "data": {
            "text/plain": [
              "[<matplotlib.lines.Line2D at 0x7f6a46ba0510>]"
            ]
          },
          "metadata": {
            "tags": []
          },
          "execution_count": 1
        },
        {
          "output_type": "display_data",
          "data": {
            "image/png": "[encoded data removed]",
            "text/plain": [
              "<Figure size 432x288 with 1 Axes>"
            ]
          },
          "metadata": {
            "tags": [],
            "needs_background": "light"
          }
        }
      ]
    },
    {
      "cell_type": "markdown",
      "metadata": {
        "id": "3DmWU03fq_G-"
      },
      "source": [
        "We can retrieve the probability of events happening, e.g. x=3.0"
      ]
    },
    {
      "cell_type": "code",
      "metadata": {
        "id": "cmOBUIzN2GuZ"
      },
      "source": [
        "p_3 = norm.pdf(3.0, 5.0, 3.0)"
      ],
      "execution_count": null,
      "outputs": []
    },
    {
      "cell_type": "markdown",
      "metadata": {
        "id": "8Jt3N5AgrPZh"
      },
      "source": [
        "We can also easily calculate the joint probability of iid (indepenent and identically distributed) events "
      ]
    },
    {
      "cell_type": "code",
      "metadata": {
        "id": "PQ8AYhYt2-9p"
      },
      "source": [
        "p_7 = norm.pdf(7.0, 7.0, 3.0)\n",
        "\n",
        "joint = p_3*p_7"
      ],
      "execution_count": null,
      "outputs": []
    },
    {
      "cell_type": "markdown",
      "metadata": {
        "id": "c5GY7PmgrtEq"
      },
      "source": [
        "Assume now that someone is giving us an array of values and ask us to estimate a $p_{model}$ that is a 'good fit' to the gievn data. How we can go about solving this problem with Maximum Likelihood Estimation (MLE)? Notice that as addressed in [3], probability and likelihood have a reverse relationship.  Probability attaches to possible results; likelihood attaches to hypotheses. The likelihood function gives the relative likelihoods of different values for the parameter(s) of the distribution from which the data are assumed to have been drawn, given those data.\n",
        "\n",
        "Lets plot a couple of $p_{model}$ hypotheses - the data are shown below in the same plot. Both hypotheses are plausible.  "
      ]
    },
    {
      "cell_type": "code",
      "metadata": {
        "colab": {
          "base_uri": "https://localhost:8080/",
          "height": 282
        },
        "id": "JLNGc_GI3X7B",
        "outputId": "5e30e4d2-befc-4c54-e903-1f280f2d24a7"
      },
      "source": [
        "data = [4, 5, 7, 8, 8, 9, 10, 5, 2, 3, 5, 4, 8, 9]\n",
        "\n",
        "fig, ax = plt.subplots(1, 1)\n",
        "x = np.linspace(0, 20, 100)\n",
        "ax.plot(x, norm.pdf(x,5,3),\n",
        "       'r-', lw=5, alpha=0.6, label='norm pdf')\n",
        "ax.plot(x, norm.pdf(x,7,3),\n",
        "       'b-', lw=5, alpha=0.6, label='norm pdf')\n",
        "ax.plot(data, np.zeros(len(data)).tolist(),'o')"
      ],
      "execution_count": null,
      "outputs": [
        {
          "output_type": "execute_result",
          "data": {
            "text/plain": [
              "[<matplotlib.lines.Line2D at 0x7f6a42d24ad0>]"
            ]
          },
          "metadata": {
            "tags": []
          },
          "execution_count": 4
        },
        {
          "output_type": "display_data",
          "data": {
            "image/png": "[encoded data removed]",
            "text/plain": [
              "<Figure size 432x288 with 1 Axes>"
            ]
          },
          "metadata": {
            "tags": [],
            "needs_background": "light"
          }
        }
      ]
    },
    {
      "cell_type": "markdown",
      "metadata": {
        "id": "-vmuSc_UshjC"
      },
      "source": [
        "As detailed in Ref [2], its important to safeguard against underflow that may well result from multiplying many numbers (for large datasets) that are less than 1.0 (probabilities). So we do the calculations in the log domain using the identity\n",
        "\n",
        "$$log(a \\times b)=log(a) + log(b)$$"
      ]
    },
    {
      "cell_type": "markdown",
      "metadata": {
        "id": "LOTKDRSMtb-r"
      },
      "source": [
        "Lets look at a function that calculates the log-likelihood for the two hypotheses above given the data denoted by $x$. "
      ]
    },
    {
      "cell_type": "code",
      "metadata": {
        "id": "8OJewE_D2aA9"
      },
      "source": [
        "def compare_data_to_dist(x, mu_1=5, mu_2=7, sd_1=3, sd_2=3):\n",
        "    ll_1 = 0\n",
        "    ll_2 = 0\n",
        "    for i in x:\n",
        "        ll_1 += np.log(norm.pdf(i, mu_1, sd_1))\n",
        "        ll_2 += np.log(norm.pdf(i, mu_2, sd_2))\n",
        "    \n",
        "    print(\"The LL of of x for mu = %d and sd = %d is: %.4f\" % (mu_1, sd_1, ll_1))\n",
        "    print(\"The LL of of x for mu = %d and sd = %d is: %.4f\" % (mu_2, sd_2, ll_2))\n"
      ],
      "execution_count": null,
      "outputs": []
    },
    {
      "cell_type": "markdown",
      "metadata": {
        "id": "fxXoRssGt4Bu"
      },
      "source": [
        "We can readily compate the two hypotheses according to the maximum likelihood criterion. Note that because the $log$ is a monotonic function, the conclusion as to which hypothesis makes the data more likely is the same in the natural or the $log$ domain. "
      ]
    },
    {
      "cell_type": "code",
      "metadata": {
        "colab": {
          "base_uri": "https://localhost:8080/"
        },
        "id": "g5jQmd1b5h3a",
        "outputId": "32e22018-3b7b-4025-9822-b0d0505acd67"
      },
      "source": [
        "ll_comparison = compare_data_to_dist(data)"
      ],
      "execution_count": null,
      "outputs": [
        {
          "output_type": "stream",
          "text": [
            "The LL of of x for mu = 5 and sd = 3 is: -33.9679\n",
            "The LL of of x for mu = 7 and sd = 3 is: -33.3013\n"
          ],
          "name": "stdout"
        }
      ]
    },
    {
      "cell_type": "code",
      "metadata": {
        "id": "foi6wu59sIyw"
      },
      "source": [
        ""
      ],
      "execution_count": null,
      "outputs": []
    },
    {
      "cell_type": "markdown",
      "metadata": {
        "id": "2gPAwYpxu4fc"
      },
      "source": [
        "It seems that the second hypothesis \n",
        "\n",
        "$$p_{model}(x|\\mathbf{w}) = N(x | [\\mu_2, \\sigma_2^2])$$\n",
        "\n",
        "is preferred compared to the first. "
      ]
    },
    {
      "cell_type": "markdown",
      "metadata": {
        "id": "eKwCRfyh_FgY"
      },
      "source": [
        "We can now start searching the hypothesis space (parameter space) for the best parameter set $\\mathbf w$. "
      ]
    },
    {
      "cell_type": "code",
      "metadata": {
        "colab": {
          "base_uri": "https://localhost:8080/",
          "height": 597
        },
        "id": "uw-K6S7A7mqA",
        "outputId": "031fe64c-60f9-4d41-ab83-b81cb80f8e61"
      },
      "source": [
        "# Plot the Negative Log Likelihood Functions for different values of mu \n",
        "# and sigma\n",
        "def plot_ll(x):\n",
        "    plt.figure(figsize=(5,8))\n",
        "    plt.title(\"Neg Log Likelihood Functions\")\n",
        "    plt.xlabel(\"Mean Estimate\")\n",
        "    plt.ylabel(\"Neg Log Likelihood\")\n",
        "    plt.ylim(30, 60)\n",
        "    plt.xlim(0, 12)\n",
        "    mu_set = np.linspace(0, 16, 1000)\n",
        "    sd_set = [.5, 1.5, 2.5, 3.5, 4.5]\n",
        "    max_val = max_val_location = None\n",
        "    for i in sd_set:\n",
        "        ll_array = []\n",
        "        \n",
        "        for j in mu_set:\n",
        "            temp_mm = 0\n",
        "            \n",
        "            for k in x:\n",
        "                temp_mm += np.log(norm.pdf(k, j, i)) # The LL function\n",
        "            ll_array.append(-temp_mm) # negative LL\n",
        "        \n",
        "            if (max_val is None):\n",
        "                max_val = min(ll_array)\n",
        "            elif max(ll_array) > max_val:\n",
        "                max_val = min(ll_array)\n",
        "                max_val_location = j\n",
        "        \n",
        "        # Plot the results\n",
        "        plt.plot(mu_set, ll_array, label=\"sd: %.1f\" % i)\n",
        "        \n",
        "        print(\"The max LL for sd %.2f is %.2f\" % (i, min(ll_array)))    \n",
        "    plt.axvline(x=max_val_location, color='black', ls='-.')\n",
        "    plt.legend(loc='lower left')\n",
        "plot_ll(data);\n"
      ],
      "execution_count": null,
      "outputs": [
        {
          "output_type": "stream",
          "text": [
            "The max LL for sd 0.50 is 167.88\n",
            "The max LL for sd 1.50 is 36.84\n",
            "The max LL for sd 2.50 is 32.28\n",
            "The max LL for sd 3.50 is 33.77\n",
            "The max LL for sd 4.50 is 35.96\n"
          ],
          "name": "stdout"
        },
        {
          "output_type": "display_data",
          "data": {
            "image/png": "[encoded data removed]",
            "text/plain": [
              "<Figure size 360x576 with 1 Axes>"
            ]
          },
          "metadata": {
            "tags": [],
            "needs_background": "light"
          }
        }
      ]
    },
    {
      "cell_type": "markdown",
      "metadata": {
        "id": "fxNMqYYIvi3a"
      },
      "source": [
        "But there is a better method than exhaustively searching in the parameter space. We developed a method that incrementally minimizes a loss function that is ultimately linked to the concept of entropy - the cross entropy (CE) that for the supervided learning problem as shown in the notes has a lot to do with minimizing the KL divergence - a type of probabilistic 'distance' between $\\hat p_{data}$ and $p_{model}$. \n",
        "\n",
        "This method is the Stochastic Gradient Descent. Can ypu estimate the hypothesis for the `data` array above? "
      ]
    },
    {
      "cell_type": "markdown",
      "metadata": {
        "id": "UCGJuL987wgJ"
      },
      "source": [
        "# Using the graphic presentation above, I can determine the mean and the standard deviation of the P model: mean = 6.2 and standard deviation will be 2.5 as the negative Log Likelhood reaches the minimum at this point. we can also double check the results using the np.mean and np.std. So we have found the hypothesis and the Pmodel. "
      ]
    },
    {
      "cell_type": "code",
      "metadata": {
        "id": "HBv1r6OGQ6WS",
        "colab": {
          "base_uri": "https://localhost:8080/"
        },
        "outputId": "63443c87-7c04-410a-beda-8baf4e5430f4"
      },
      "source": [
        "print(\"the mean is:\", np.mean(data))\r\n",
        "print(\"the standard deviation is:\", np.std(data))"
      ],
      "execution_count": null,
      "outputs": [
        {
          "output_type": "stream",
          "text": [
            "the mean is: 6.214285714285714\n",
            "the standard deviation is: 2.425418120907092\n"
          ],
          "name": "stdout"
        }
      ]
    },
    {
      "cell_type": "markdown",
      "metadata": {
        "id": "7tqGhdCXQjKa"
      },
      "source": [
        "You are given a problem that involves the relationship between $x$ and $y$. Estimate the parameters of a $p_{model}$ that fit the dataset (x,y) shown below.  "
      ]
    },
    {
      "cell_type": "code",
      "metadata": {
        "id": "7bTB95S3MclH"
      },
      "source": [
        "x = np.array([8, 16, 22, 33, 50, 51])\r\n",
        "y = np.array([5, 20, 14, 32, 42, 58])"
      ],
      "execution_count": null,
      "outputs": []
    },
    {
      "cell_type": "code",
      "metadata": {
        "colab": {
          "base_uri": "https://localhost:8080/",
          "height": 291
        },
        "id": "FaCCr1ocMebC",
        "outputId": "13abd564-ffcd-4a3d-b9ea-1a11e2bb4f36"
      },
      "source": [
        "# First we plot the data to have an idea of the data distribution\r\n",
        "plt.plot(x,y,\"b.\")\r\n",
        "plt.xlabel(\"$x$\", fontsize=18)\r\n",
        "plt.ylabel(\"$y$\", rotation=0, fontsize=18)\r\n",
        "plt.axis([0, 60, 0, 60])\r\n",
        "plt.show()"
      ],
      "execution_count": null,
      "outputs": [
        {
          "output_type": "display_data",
          "data": {
            "image/png": "[encoded data removed]",
            "text/plain": [
              "<Figure size 432x288 with 1 Axes>"
            ]
          },
          "metadata": {
            "tags": [],
            "needs_background": "light"
          }
        }
      ]
    },
    {
      "cell_type": "code",
      "metadata": {
        "id": "uFV6fXjVD9VJ"
      },
      "source": [
        "x = np.array([[8, 16, 22, 33, 50, 51]]).T\r\n",
        "y = np.array([[5, 20, 14, 32, 42, 58]]).T"
      ],
      "execution_count": null,
      "outputs": []
    },
    {
      "cell_type": "code",
      "metadata": {
        "id": "WmdbxqYaD0Jb"
      },
      "source": [
        "from sklearn import preprocessing\r\n",
        "scaler_x = preprocessing.StandardScaler().fit(x)\r\n",
        "scaler_y = preprocessing.StandardScaler().fit(y)"
      ],
      "execution_count": null,
      "outputs": []
    },
    {
      "cell_type": "code",
      "metadata": {
        "colab": {
          "base_uri": "https://localhost:8080/"
        },
        "id": "jFCR7YfwMuuF",
        "outputId": "02938138-5621-4f47-b9ac-74fdf569a1f9"
      },
      "source": [
        "# Using the Normal Equation to find the parameters of the Pmodel. \r\n",
        "x_b=np.c_[np.ones((6,1)), x]\r\n",
        "theta_best=np.linalg.inv(x_b.T.dot(x_b)).dot(x_b.T).dot(y)\r\n",
        "theta_best"
      ],
      "execution_count": null,
      "outputs": [
        {
          "output_type": "execute_result",
          "data": {
            "text/plain": [
              "array([[-2.59159348],\n",
              "       [ 1.03638645]])"
            ]
          },
          "metadata": {
            "tags": []
          },
          "execution_count": 17
        }
      ]
    },
    {
      "cell_type": "code",
      "metadata": {
        "colab": {
          "base_uri": "https://localhost:8080/",
          "height": 370
        },
        "id": "b8DzvtWgZmBv",
        "outputId": "b323a008-e367-4d78-b3dd-f5f9b1709181"
      },
      "source": [
        "#predict y_pred using x\r\n",
        "y_pred = x_b.dot(theta_best)\r\n",
        "print(\"the results y_pred are:\", y_pred)\r\n",
        "plt.plot(x,y_pred, \"r-\")\r\n",
        "plt.plot(x, y, \"b.\")\r\n",
        "plt.axis([0, 60, 0, 60])\r\n",
        "plt.show()"
      ],
      "execution_count": null,
      "outputs": [
        {
          "output_type": "stream",
          "text": [
            "the results y_pred are: [[ 5.69949812]\n",
            " [13.99058971]\n",
            " [20.20890841]\n",
            " [31.60915935]\n",
            " [49.22772898]\n",
            " [50.26411543]]\n"
          ],
          "name": "stdout"
        },
        {
          "output_type": "display_data",
          "data": {
            "image/png": "[encoded data removed]",
            "text/plain": [
              "<Figure size 432x288 with 1 Axes>"
            ]
          },
          "metadata": {
            "tags": [],
            "needs_background": "light"
          }
        }
      ]
    },
    {
      "cell_type": "code",
      "metadata": {
        "colab": {
          "base_uri": "https://localhost:8080/"
        },
        "id": "MEh2hw1VZT2D",
        "outputId": "5779e87c-4a13-4932-968e-8579dc55372f"
      },
      "source": [
        "#using linear_regression to find the parameters of the Pmodel\r\n",
        "from sklearn.linear_model import LinearRegression\r\n",
        "x=x.reshape(-1,1)\r\n",
        "y=y.reshape(-1,1)\r\n",
        "lin_reg=LinearRegression()\r\n",
        "lin_reg.fit(x,y)\r\n",
        "lin_reg.intercept_, lin_reg.coef_"
      ],
      "execution_count": null,
      "outputs": [
        {
          "output_type": "execute_result",
          "data": {
            "text/plain": [
              "(array([-2.59159348]), array([[1.03638645]]))"
            ]
          },
          "metadata": {
            "tags": []
          },
          "execution_count": 21
        }
      ]
    },
    {
      "cell_type": "markdown",
      "metadata": {
        "id": "amim8xQLTUlS"
      },
      "source": [
        "OBSERVATION OF THE PARAMETERS OF Pmodel USING NORMAL EQUATION AND LINEAR REGRESSION: WE CAN SEE THAT THE RESULTS OBTAINED USING THE TWO METHODS ARE THE SAME. "
      ]
    },
    {
      "cell_type": "code",
      "metadata": {
        "colab": {
          "base_uri": "https://localhost:8080/"
        },
        "id": "mRqCcJ7TYNo1",
        "outputId": "18779969-4a4e-4390-8cd9-b0f815139cc4"
      },
      "source": [
        "# Using Batch Gradient Descent: \r\n",
        "eta=0.001\r\n",
        "n_iterations=1000\r\n",
        "m=100\r\n",
        "theta=np.random.randn(2,1)\r\n",
        "\r\n",
        "for iteration in range(n_iterations):\r\n",
        "  gradients=2/m *x_b.T.dot(x_b.dot(theta) - y)\r\n",
        "  theta=theta-eta*gradients\r\n",
        "theta\r\n",
        "\r\n"
      ],
      "execution_count": null,
      "outputs": [
        {
          "output_type": "execute_result",
          "data": {
            "text/plain": [
              "array([[-0.73949238],\n",
              "       [ 0.98871082]])"
            ]
          },
          "metadata": {
            "tags": []
          },
          "execution_count": 43
        }
      ]
    },
    {
      "cell_type": "code",
      "metadata": {
        "colab": {
          "base_uri": "https://localhost:8080/",
          "height": 370
        },
        "id": "KSo0T9apeXx3",
        "outputId": "376fb0f0-45b3-43fc-89cc-737027a65fb8"
      },
      "source": [
        "y_pred_gd=x_b.dot(theta)\r\n",
        "print(\"the results y_pred using Gradient Descent are:\", y_pred_gd)\r\n",
        "\r\n",
        "plt.plot(x,y_pred_gd, \"r-\")\r\n",
        "plt.plot(x, y, \"b.\")\r\n",
        "plt.axis([0, 60, 0, 60])\r\n",
        "plt.show()"
      ],
      "execution_count": null,
      "outputs": [
        {
          "output_type": "stream",
          "text": [
            "the results y_pred using Gradient Descent are: [[ 7.17019418]\n",
            " [15.07988075]\n",
            " [21.01214567]\n",
            " [31.88796469]\n",
            " [48.69604863]\n",
            " [49.68475945]]\n"
          ],
          "name": "stdout"
        },
        {
          "output_type": "display_data",
          "data": {
            "image/png": "[encoded data removed]",
            "text/plain": [
              "<Figure size 432x288 with 1 Axes>"
            ]
          },
          "metadata": {
            "tags": [],
            "needs_background": "light"
          }
        }
      ]
    },
    {
      "cell_type": "markdown",
      "metadata": {
        "id": "fgh4j8VlU-3n"
      },
      "source": [
        "# USING THE BATCH GRADIENT DESCENT, THE PARAMETERS OF Pmodel THAT WE OBTAINED DO NOT REALLY MATCH WITH THE ONES THAT WE HAVE USING LINEAR REGRESSION AND NORMAL EQUATION BUT WE CAN SEE THAT THE COEFFICIENT IS QUITE CLOSE. AS THE DATASET IS SMALL SO I HAVE TO TUNE THE HYPERPARAMETERS AND DECIDE THAT eta0 WILL BE 0.001, n_iterations IS 1000 AND m IS 100.  "
      ]
    },
    {
      "cell_type": "code",
      "metadata": {
        "colab": {
          "base_uri": "https://localhost:8080/"
        },
        "id": "ZaqJlxafSjSW",
        "outputId": "d6123266-9c88-47e2-c0f6-248dcc98e82a"
      },
      "source": [
        "#Using the Stochastic Gradient Descent\r\n",
        "from sklearn.linear_model import SGDRegressor\r\n",
        "sgd_reg = SGDRegressor( penalty=None, eta0=0.001)\r\n",
        "sgd_reg.fit(x, y.ravel())\r\n",
        "sgd_reg.intercept_, sgd_reg.coef_"
      ],
      "execution_count": null,
      "outputs": [
        {
          "output_type": "stream",
          "text": [
            "/usr/local/lib/python3.7/dist-packages/sklearn/linear_model/_stochastic_gradient.py:1187: ConvergenceWarning: Maximum number of iteration reached before convergence. Consider increasing max_iter to improve the fit.\n",
            "  ConvergenceWarning)\n"
          ],
          "name": "stderr"
        },
        {
          "output_type": "execute_result",
          "data": {
            "text/plain": [
              "(array([-0.39832627]), array([0.99233765]))"
            ]
          },
          "metadata": {
            "tags": []
          },
          "execution_count": 45
        }
      ]
    },
    {
      "cell_type": "code",
      "metadata": {
        "colab": {
          "base_uri": "https://localhost:8080/",
          "height": 269
        },
        "id": "joLugy9KbuIY",
        "outputId": "a982f564-9f4f-4046-82a3-d39be20d5e51"
      },
      "source": [
        "y_pred_sgd=sgd_reg.predict(x)\r\n",
        "plt.plot(x,y_pred_sgd, \"r-\")\r\n",
        "plt.plot(x, y, \"b.\")\r\n",
        "plt.axis([0, 60, 0, 60])\r\n",
        "plt.show()"
      ],
      "execution_count": null,
      "outputs": [
        {
          "output_type": "display_data",
          "data": {
            "image/png": "[encoded data removed]",
            "text/plain": [
              "<Figure size 432x288 with 1 Axes>"
            ]
          },
          "metadata": {
            "tags": [],
            "needs_background": "light"
          }
        }
      ]
    },
    {
      "cell_type": "markdown",
      "metadata": {
        "id": "NRTyhxWAZXDT"
      },
      "source": [
        "USING THE STOCHASTIC GRADIENT DESCENT, I GOT THE PARAMETERS OF THE Pmodel AS ABOVE. THE RESULTS ARE QUITE SIMILAR TO THE ONES OBTAINED FROM THE BATCH GRADIENT DESCENT BUT AS THE DATASET IS SMALL, I CAN NOT USE THE DEFAULTS VALUES BUT NEED TO TUNE THE HYPERPARAMETERS. AFTER TRYING A SMALL VALUE OF eta0 ( HERE 0.001), THE RESULTS FOR THETA MAKE MORE SENSE TO ME.  "
      ]
    },
    {
      "cell_type": "code",
      "metadata": {
        "colab": {
          "base_uri": "https://localhost:8080/"
        },
        "id": "Nw1ANjt2PKkD",
        "outputId": "2c4d1f48-847d-4da7-a60f-92bc0f58ea0c"
      },
      "source": [
        "# another way of calculating the theta using stochastic gradient descent \r\n",
        "n_epochs = 1000\r\n",
        "m = len(x_b)\r\n",
        "t0,t1=0.01,1\r\n",
        "\r\n",
        "def learning_schedule(t):\r\n",
        "    return t0 / (t + t1)\r\n",
        "theta_sgd = np.random.randn(2,1)\r\n",
        "#print(theta_sgd)\r\n",
        "\r\n",
        "for epoch in range(n_epochs):\r\n",
        "    for i in range(m):\r\n",
        "        random_index = np.random.randint(m)\r\n",
        "        xi = x_b[random_index:random_index+1]\r\n",
        "        yi = y[random_index:random_index+1]\r\n",
        "        gradients = 2 * xi.T.dot(xi.dot(theta_sgd) - yi)\r\n",
        "        eta = learning_schedule(epoch * m + i)\r\n",
        "        theta_sgd = theta_sgd - eta * gradients\r\n",
        "\r\n",
        "\r\n",
        "theta_sgd"
      ],
      "execution_count": null,
      "outputs": [
        {
          "output_type": "execute_result",
          "data": {
            "text/plain": [
              "array([[-0.41010063],\n",
              "       [ 0.98938807]])"
            ]
          },
          "metadata": {
            "tags": []
          },
          "execution_count": 53
        }
      ]
    },
    {
      "cell_type": "code",
      "metadata": {
        "colab": {
          "base_uri": "https://localhost:8080/",
          "height": 269
        },
        "id": "MaoGv7BfnErj",
        "outputId": "e2ed0054-33f5-4ebe-9ffe-a31bbd12f38c"
      },
      "source": [
        "y_pred_sgd2=x_b.dot(theta_sgd)\r\n",
        "plt.plot(x,y_pred_sgd2, \"r-\")\r\n",
        "plt.plot(x, y, \"b.\")\r\n",
        "plt.axis([0, 60, 0, 60])\r\n",
        "plt.show()\r\n"
      ],
      "execution_count": null,
      "outputs": [
        {
          "output_type": "display_data",
          "data": {
            "image/png": "[encoded data removed]",
            "text/plain": [
              "<Figure size 432x288 with 1 Axes>"
            ]
          },
          "metadata": {
            "tags": [],
            "needs_background": "light"
          }
        }
      ]
    },
    {
      "cell_type": "code",
      "metadata": {
        "colab": {
          "base_uri": "https://localhost:8080/"
        },
        "id": "uXSTaz3lLPZs",
        "outputId": "98b5335d-d0b2-470f-b279-b3888d8dc20e"
      },
      "source": [
        "y_pred_sgd=x_b.dot(theta_sgd)\r\n",
        "y_pred_sgd"
      ],
      "execution_count": null,
      "outputs": [
        {
          "output_type": "execute_result",
          "data": {
            "text/plain": [
              "array([[ 7.50500392],\n",
              "       [15.42010846],\n",
              "       [21.35643687],\n",
              "       [32.23970562],\n",
              "       [49.05930278],\n",
              "       [50.04869085]])"
            ]
          },
          "metadata": {
            "tags": []
          },
          "execution_count": 55
        }
      ]
    },
    {
      "cell_type": "code",
      "metadata": {
        "colab": {
          "base_uri": "https://localhost:8080/",
          "height": 269
        },
        "id": "hjPNZ22OToKP",
        "outputId": "e5c5da6b-1ba6-4683-a97b-f112e3552ac3"
      },
      "source": [
        "plt.plot(x_b,y_pred_sgd, \"r-\")\r\n",
        "plt.plot(x, y, \"b.\")\r\n",
        "plt.axis([0, 60, 0, 60])\r\n",
        "plt.show()"
      ],
      "execution_count": null,
      "outputs": [
        {
          "output_type": "display_data",
          "data": {
            "image/png": "[encoded data removed]",
            "text/plain": [
              "<Figure size 432x288 with 1 Axes>"
            ]
          },
          "metadata": {
            "tags": [],
            "needs_background": "light"
          }
        }
      ]
    },
    {
      "cell_type": "markdown",
      "metadata": {
        "id": "6BDjtdMFghC5"
      },
      "source": [
        "# References\n",
        "\n",
        "1. https://medium.com/@rrfd/what-is-maximum-likelihood-estimation-examples-in-python-791153818030\n",
        "2. [Section 4.1 - Numerical computation](https://www.deeplearningbook.org/contents/numerical.html)\n",
        "3. [Bayes for beginners - probability and likelihood](https://www.psychologicalscience.org/observer/bayes-for-beginners-probability-and-likelihood) "
      ]
    }
  ]
}